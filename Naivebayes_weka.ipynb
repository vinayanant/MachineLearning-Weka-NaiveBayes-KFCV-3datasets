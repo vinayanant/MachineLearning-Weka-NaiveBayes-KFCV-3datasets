{
  "nbformat": 4,
  "nbformat_minor": 0,
  "metadata": {
    "colab": {
      "provenance": [],
      "collapsed_sections": []
    },
    "kernelspec": {
      "name": "python3",
      "display_name": "Python 3"
    },
    "language_info": {
      "name": "python"
    }
  },
  "cells": [
    {
      "cell_type": "markdown",
      "source": [
        "Import required libraries"
      ],
      "metadata": {
        "id": "zlul1ZA6378a"
      }
    },
    {
      "cell_type": "code",
      "execution_count": null,
      "metadata": {
        "id": "VOuPgYai05fq"
      },
      "outputs": [],
      "source": [
        "from math import sqrt\n",
        "from math import exp\n",
        "from math import pi\n",
        "from random import seed\n",
        "from random import randrange\n",
        "import matplotlib.pyplot as plt\n",
        "import pandas as pd #to import dataset\n",
        "import scipy.stats # to find p-value\n",
        "from math import log"
      ]
    },
    {
      "cell_type": "markdown",
      "source": [
        "Load the dataset"
      ],
      "metadata": {
        "id": "0fBOokNdLvC3"
      }
    },
    {
      "cell_type": "code",
      "source": [
        "seed(6)\n",
        "# Function to load the dataset\n",
        "dataset1_name = \"Hayes-Roth Data Set\"\n",
        "dataset2_name = \"Car Evaluation Data Set\"\n",
        "dataset3_name = \"Breast Cancer Data Set\"\n",
        "\n",
        "column_name1 = ('Name', 'Hobby', 'Age', 'Educational level', 'Marital status', 'Class')\n",
        "column_name2 = ('Buying', 'Maintenance', 'Doors', 'Persons', 'Lug_boot', 'Safety', 'Class')\n",
        "column_name3 = ('Class', 'Age', 'Menopause', 'Tumor_size', 'Inv_nodes', 'Node_caps', 'Deg_malig', 'Breast', 'Breast_quad', 'Irradiat')\n",
        "column_name4 =['Age', 'Menopause', 'Tumor_size', 'Inv_nodes', 'Node_caps', 'Deg_malig', 'Breast', 'Breast_quad', 'Irradiat', 'Class']\n",
        "\n",
        "dataset_1 = 'https://archive.ics.uci.edu/ml/machine-learning-databases/hayes-roth/hayes-roth.data'\n",
        "dataset_2 = 'https://archive.ics.uci.edu/ml/machine-learning-databases/car/car.data'\n",
        "dataset_3 = 'https://archive.ics.uci.edu/ml/machine-learning-databases/breast-cancer/breast-cancer.data'\n",
        "def load_dataset(dataset_url, column_name):\n",
        "  \n",
        "  # dataset_1 = \"https://drive.google.com/uc?export=download&id=1ucTsXtfe8XpXhXUIjHxXylafLm2pBCLp\"\n",
        "  \n",
        "  # dataset_import = pd.read_csv(dataset_url, names=column_name1)\n",
        "  if (dataset_url == dataset_3):\n",
        "    dataset_import = pd.read_csv(dataset_url, names=column_name)\n",
        "    dataset_import_new = dataset_import[column_name4]\n",
        "    dataset_import_new1 = dataset_import_new[dataset_import_new.Breast_quad != \"?\"]\n",
        "    dataset_import_new2 = dataset_import_new1[dataset_import_new1.Node_caps != \"?\"]\n",
        "    return dataset_import_new2\n",
        "  else:\n",
        "    dataset_import = pd.read_csv(dataset_url, names=column_name)\n",
        "    return dataset_import\n",
        "\n",
        "print('\\033[1m'+ \"\\n\\t\\t\", dataset1_name + '\\033[0m')\n",
        "print('\\033[1m'+ \"\\n\", load_dataset(dataset_1, column_name1), \"\\n\\n\" + '\\033[0m')\n",
        "print('\\033[1m'+ \"\\n\\t\\t\", dataset2_name + '\\033[0m')\n",
        "print('\\033[1m'+ \"\\n\", load_dataset(dataset_2, column_name2), \"\\n\\n\" + '\\033[0m')\n",
        "print('\\033[1m'+ \"\\n\\t\\t\", dataset3_name + '\\033[0m')\n",
        "print('\\033[1m'+ \"\\n\", load_dataset(dataset_3, column_name3), \"\\n\\n\" + '\\033[0m')"
      ],
      "metadata": {
        "colab": {
          "base_uri": "https://localhost:8080/"
        },
        "id": "1E8Qa-v_3HRD",
        "outputId": "c72c15fb-dd0d-4097-e092-bd341ae76f57"
      },
      "execution_count": null,
      "outputs": [
        {
          "output_type": "stream",
          "name": "stdout",
          "text": [
            "\u001b[1m\n",
            "\t\t Hayes-Roth Data Set\u001b[0m\n",
            "\u001b[1m\n",
            "      Name  Hobby  Age  Educational level  Marital status  Class\n",
            "0      92      2    1                  1               2      1\n",
            "1      10      2    1                  3               2      2\n",
            "2      83      3    1                  4               1      3\n",
            "3      61      2    4                  2               2      3\n",
            "4     107      1    1                  3               4      3\n",
            "..    ...    ...  ...                ...             ...    ...\n",
            "127    44      1    1                  4               3      3\n",
            "128    40      2    1                  2               1      1\n",
            "129    90      1    2                  1               2      2\n",
            "130    21      1    2                  2               1      2\n",
            "131     9      3    1                  1               2      1\n",
            "\n",
            "[132 rows x 6 columns] \n",
            "\n",
            "\u001b[0m\n",
            "\u001b[1m\n",
            "\t\t Car Evaluation Data Set\u001b[0m\n",
            "\u001b[1m\n",
            "      Buying Maintenance  Doors Persons Lug_boot Safety  Class\n",
            "0     vhigh       vhigh      2       2    small    low  unacc\n",
            "1     vhigh       vhigh      2       2    small    med  unacc\n",
            "2     vhigh       vhigh      2       2    small   high  unacc\n",
            "3     vhigh       vhigh      2       2      med    low  unacc\n",
            "4     vhigh       vhigh      2       2      med    med  unacc\n",
            "...     ...         ...    ...     ...      ...    ...    ...\n",
            "1723    low         low  5more    more      med    med   good\n",
            "1724    low         low  5more    more      med   high  vgood\n",
            "1725    low         low  5more    more      big    low  unacc\n",
            "1726    low         low  5more    more      big    med   good\n",
            "1727    low         low  5more    more      big   high  vgood\n",
            "\n",
            "[1728 rows x 7 columns] \n",
            "\n",
            "\u001b[0m\n",
            "\u001b[1m\n",
            "\t\t Breast Cancer Data Set\u001b[0m\n",
            "\u001b[1m\n",
            "        Age Menopause Tumor_size Inv_nodes Node_caps  Deg_malig Breast  \\\n",
            "0    30-39   premeno      30-34       0-2        no          3   left   \n",
            "1    40-49   premeno      20-24       0-2        no          2  right   \n",
            "2    40-49   premeno      20-24       0-2        no          2   left   \n",
            "3    60-69      ge40      15-19       0-2        no          2  right   \n",
            "4    40-49   premeno        0-4       0-2        no          2  right   \n",
            "..     ...       ...        ...       ...       ...        ...    ...   \n",
            "281  30-39   premeno      30-34       0-2        no          2   left   \n",
            "282  30-39   premeno      20-24       0-2        no          3   left   \n",
            "283  60-69      ge40      20-24       0-2        no          1  right   \n",
            "284  40-49      ge40      30-34       3-5        no          3   left   \n",
            "285  50-59      ge40      30-34       3-5        no          3   left   \n",
            "\n",
            "    Breast_quad Irradiat                 Class  \n",
            "0      left_low       no  no-recurrence-events  \n",
            "1      right_up       no  no-recurrence-events  \n",
            "2      left_low       no  no-recurrence-events  \n",
            "3       left_up       no  no-recurrence-events  \n",
            "4     right_low       no  no-recurrence-events  \n",
            "..          ...      ...                   ...  \n",
            "281     left_up       no     recurrence-events  \n",
            "282     left_up      yes     recurrence-events  \n",
            "283     left_up       no     recurrence-events  \n",
            "284    left_low       no     recurrence-events  \n",
            "285    left_low       no     recurrence-events  \n",
            "\n",
            "[277 rows x 10 columns] \n",
            "\n",
            "\u001b[0m\n"
          ]
        }
      ]
    },
    {
      "cell_type": "code",
      "source": [
        "print('\\033[1m'+ \"\\n\\t\\t\", dataset1_name + '\\033[0m\\n')\n",
        "print(load_dataset(dataset_1, column_name1).describe())\n",
        "print('\\033[1m'+ \"\\n\\t\\t\", dataset2_name + '\\033[0m')\n",
        "print(\"\\n\", load_dataset(dataset_2, column_name2).describe())\n",
        "print('\\033[1m'+ \"\\n\\t\\t\", dataset3_name + '\\033[0m')\n",
        "print(\"\\n\", load_dataset(dataset_3, column_name3).describe())"
      ],
      "metadata": {
        "colab": {
          "base_uri": "https://localhost:8080/"
        },
        "id": "GN_fTJUDsumt",
        "outputId": "b758fdc3-983e-4198-8e62-551fc0bfe71a"
      },
      "execution_count": null,
      "outputs": [
        {
          "output_type": "stream",
          "name": "stdout",
          "text": [
            "\u001b[1m\n",
            "\t\t Hayes-Roth Data Set\u001b[0m\n",
            "\n",
            "             Name       Hobby         Age  Educational level  Marital status  \\\n",
            "count  132.000000  132.000000  132.000000         132.000000      132.000000   \n",
            "mean    66.500000    2.000000    1.954545           1.954545        1.954545   \n",
            "std     38.249183    0.819607    0.947988           0.947988        0.947988   \n",
            "min      1.000000    1.000000    1.000000           1.000000        1.000000   \n",
            "25%     33.750000    1.000000    1.000000           1.000000        1.000000   \n",
            "50%     66.500000    2.000000    2.000000           2.000000        2.000000   \n",
            "75%     99.250000    3.000000    2.000000           2.000000        2.000000   \n",
            "max    132.000000    3.000000    4.000000           4.000000        4.000000   \n",
            "\n",
            "            Class  \n",
            "count  132.000000  \n",
            "mean     1.840909  \n",
            "std      0.769946  \n",
            "min      1.000000  \n",
            "25%      1.000000  \n",
            "50%      2.000000  \n",
            "75%      2.000000  \n",
            "max      3.000000  \n",
            "\u001b[1m\n",
            "\t\t Car Evaluation Data Set\u001b[0m\n",
            "\n",
            "        Buying Maintenance Doors Persons Lug_boot Safety  Class\n",
            "count    1728        1728  1728    1728     1728   1728   1728\n",
            "unique      4           4     4       3        3      3      4\n",
            "top     vhigh       vhigh     2       2    small    low  unacc\n",
            "freq      432         432   432     576      576    576   1210\n",
            "\u001b[1m\n",
            "\t\t Breast Cancer Data Set\u001b[0m\n",
            "\n",
            "         Deg_malig\n",
            "count  277.000000\n",
            "mean     2.057762\n",
            "std      0.729989\n",
            "min      1.000000\n",
            "25%      2.000000\n",
            "50%      2.000000\n",
            "75%      3.000000\n",
            "max      3.000000\n"
          ]
        }
      ]
    },
    {
      "cell_type": "code",
      "source": [
        "print('\\033[1m'+ \"\\n\\t\\t\", dataset1_name + '\\033[0m\\n')\n",
        "print(load_dataset(dataset_1, column_name1).isnull().sum())\n",
        "print('\\033[1m'+ \"\\n\\t\\t\", dataset2_name + '\\033[0m')\n",
        "print(\"\\n\", load_dataset(dataset_2, column_name2).isnull().sum())\n",
        "print('\\033[1m'+ \"\\n\\t\\t\", dataset3_name + '\\033[0m')\n",
        "print(\"\\n\", load_dataset(dataset_3, column_name3).isnull().sum())"
      ],
      "metadata": {
        "colab": {
          "base_uri": "https://localhost:8080/"
        },
        "id": "G_pfOd0WaeE5",
        "outputId": "5b56e5ee-eff8-4c69-bf66-7de787c65a8d"
      },
      "execution_count": null,
      "outputs": [
        {
          "output_type": "stream",
          "name": "stdout",
          "text": [
            "\u001b[1m\n",
            "\t\t Hayes-Roth Data Set\u001b[0m\n",
            "\n",
            "Name                 0\n",
            "Hobby                0\n",
            "Age                  0\n",
            "Educational level    0\n",
            "Marital status       0\n",
            "Class                0\n",
            "dtype: int64\n",
            "\u001b[1m\n",
            "\t\t Car Evaluation Data Set\u001b[0m\n",
            "\n",
            " Buying         0\n",
            "Maintenance    0\n",
            "Doors          0\n",
            "Persons        0\n",
            "Lug_boot       0\n",
            "Safety         0\n",
            "Class          0\n",
            "dtype: int64\n",
            "\u001b[1m\n",
            "\t\t Breast Cancer Data Set\u001b[0m\n",
            "\n",
            " Age            0\n",
            "Menopause      0\n",
            "Tumor_size     0\n",
            "Inv_nodes      0\n",
            "Node_caps      0\n",
            "Deg_malig      0\n",
            "Breast         0\n",
            "Breast_quad    0\n",
            "Irradiat       0\n",
            "Class          0\n",
            "dtype: int64\n"
          ]
        }
      ]
    },
    {
      "cell_type": "code",
      "source": [
        "print('\\033[1m'+ \"\\n\\t\\t\", dataset1_name + '\\033[0m\\n')\n",
        "print(load_dataset(dataset_1, column_name1).info())\n",
        "print('\\033[1m'+ \"\\n\\t\\t\", dataset2_name + '\\033[0m\\n')\n",
        "print(load_dataset(dataset_2, column_name2).info())\n",
        "print('\\033[1m'+ \"\\n\\t\\t\", dataset3_name + '\\033[0m\\n')\n",
        "print(load_dataset(dataset_3, column_name3).info())"
      ],
      "metadata": {
        "colab": {
          "base_uri": "https://localhost:8080/"
        },
        "id": "CApl8v47kNdj",
        "outputId": "ba71b526-9e5c-417f-faa2-0fb8bf956624"
      },
      "execution_count": null,
      "outputs": [
        {
          "output_type": "stream",
          "name": "stdout",
          "text": [
            "\u001b[1m\n",
            "\t\t Hayes-Roth Data Set\u001b[0m\n",
            "\n",
            "<class 'pandas.core.frame.DataFrame'>\n",
            "RangeIndex: 132 entries, 0 to 131\n",
            "Data columns (total 6 columns):\n",
            " #   Column             Non-Null Count  Dtype\n",
            "---  ------             --------------  -----\n",
            " 0   Name               132 non-null    int64\n",
            " 1   Hobby              132 non-null    int64\n",
            " 2   Age                132 non-null    int64\n",
            " 3   Educational level  132 non-null    int64\n",
            " 4   Marital status     132 non-null    int64\n",
            " 5   Class              132 non-null    int64\n",
            "dtypes: int64(6)\n",
            "memory usage: 6.3 KB\n",
            "None\n",
            "\u001b[1m\n",
            "\t\t Car Evaluation Data Set\u001b[0m\n",
            "\n",
            "<class 'pandas.core.frame.DataFrame'>\n",
            "RangeIndex: 1728 entries, 0 to 1727\n",
            "Data columns (total 7 columns):\n",
            " #   Column       Non-Null Count  Dtype \n",
            "---  ------       --------------  ----- \n",
            " 0   Buying       1728 non-null   object\n",
            " 1   Maintenance  1728 non-null   object\n",
            " 2   Doors        1728 non-null   object\n",
            " 3   Persons      1728 non-null   object\n",
            " 4   Lug_boot     1728 non-null   object\n",
            " 5   Safety       1728 non-null   object\n",
            " 6   Class        1728 non-null   object\n",
            "dtypes: object(7)\n",
            "memory usage: 94.6+ KB\n",
            "None\n",
            "\u001b[1m\n",
            "\t\t Breast Cancer Data Set\u001b[0m\n",
            "\n",
            "<class 'pandas.core.frame.DataFrame'>\n",
            "Int64Index: 277 entries, 0 to 285\n",
            "Data columns (total 10 columns):\n",
            " #   Column       Non-Null Count  Dtype \n",
            "---  ------       --------------  ----- \n",
            " 0   Age          277 non-null    object\n",
            " 1   Menopause    277 non-null    object\n",
            " 2   Tumor_size   277 non-null    object\n",
            " 3   Inv_nodes    277 non-null    object\n",
            " 4   Node_caps    277 non-null    object\n",
            " 5   Deg_malig    277 non-null    int64 \n",
            " 6   Breast       277 non-null    object\n",
            " 7   Breast_quad  277 non-null    object\n",
            " 8   Irradiat     277 non-null    object\n",
            " 9   Class        277 non-null    object\n",
            "dtypes: int64(1), object(9)\n",
            "memory usage: 23.8+ KB\n",
            "None\n"
          ]
        }
      ]
    },
    {
      "cell_type": "code",
      "source": [
        "print('\\033[1m'+ \"\\n\\t\\t\", dataset1_name + '\\033[0m\\n')\n",
        "load_dataset(dataset_1, column_name1)['Class'].value_counts().plot(kind='bar')\n",
        "print('\\033[1m'+ \"\\n\\t\\t\", dataset2_name + '\\033[0m\\n')\n",
        "load_dataset(dataset_2, column_name2)['Class'].value_counts().plot(kind='bar')"
      ],
      "metadata": {
        "colab": {
          "base_uri": "https://localhost:8080/",
          "height": 411
        },
        "id": "J-EQ7RyptNNV",
        "outputId": "d9a2877f-d2a7-41ac-c2f3-a27288bbb9a2"
      },
      "execution_count": null,
      "outputs": [
        {
          "output_type": "stream",
          "name": "stdout",
          "text": [
            "\u001b[1m\n",
            "\t\t Hayes-Roth Data Set\u001b[0m\n",
            "\n",
            "\u001b[1m\n",
            "\t\t Car Evaluation Data Set\u001b[0m\n",
            "\n"
          ]
        },
        {
          "output_type": "execute_result",
          "data": {
            "text/plain": [
              "<matplotlib.axes._subplots.AxesSubplot at 0x7f56f105b850>"
            ]
          },
          "metadata": {},
          "execution_count": 6
        },
        {
          "output_type": "display_data",
          "data": {
            "image/png": "[encoded data removed]",
            "text/plain": [
              "<Figure size 432x288 with 1 Axes>"
            ]
          },
          "metadata": {
            "needs_background": "light"
          }
        }
      ]
    },
    {
      "cell_type": "code",
      "source": [
        "print('\\033[1m'+ \"\\n\\t\\t\", dataset2_name + '\\033[0m\\n')\n",
        "load_dataset(dataset_2, column_name2)['Class'].value_counts().plot(kind='bar')"
      ],
      "metadata": {
        "colab": {
          "base_uri": "https://localhost:8080/",
          "height": 357
        },
        "id": "MK6vPnH-VGvf",
        "outputId": "1754bd9d-f736-4c38-ba91-ab4cff9f08df"
      },
      "execution_count": null,
      "outputs": [
        {
          "output_type": "stream",
          "name": "stdout",
          "text": [
            "\u001b[1m\n",
            "\t\t Car Evaluation Data Set\u001b[0m\n",
            "\n"
          ]
        },
        {
          "output_type": "execute_result",
          "data": {
            "text/plain": [
              "<matplotlib.axes._subplots.AxesSubplot at 0x7f56f0f43450>"
            ]
          },
          "metadata": {},
          "execution_count": 7
        },
        {
          "output_type": "display_data",
          "data": {
            "image/png": "[encoded data removed]",
            "text/plain": [
              "<Figure size 432x288 with 1 Axes>"
            ]
          },
          "metadata": {
            "needs_background": "light"
          }
        }
      ]
    },
    {
      "cell_type": "code",
      "source": [
        "print('\\033[1m'+ \"\\n\\t\\t\", dataset3_name + '\\033[0m\\n')\n",
        "load_dataset(dataset_3, column_name3)['Class'].value_counts().plot(kind='bar')"
      ],
      "metadata": {
        "colab": {
          "base_uri": "https://localhost:8080/",
          "height": 434
        },
        "id": "EZY_2k---Fot",
        "outputId": "f7eb30b7-ec12-4006-9e07-48bf55d7e044"
      },
      "execution_count": null,
      "outputs": [
        {
          "output_type": "stream",
          "name": "stdout",
          "text": [
            "\u001b[1m\n",
            "\t\t Breast Cancer Data Set\u001b[0m\n",
            "\n"
          ]
        },
        {
          "output_type": "execute_result",
          "data": {
            "text/plain": [
              "<matplotlib.axes._subplots.AxesSubplot at 0x7f56f10dd0d0>"
            ]
          },
          "metadata": {},
          "execution_count": 8
        },
        {
          "output_type": "display_data",
          "data": {
            "image/png": "[encoded data removed]",
            "text/plain": [
              "<Figure size 432x288 with 1 Axes>"
            ]
          },
          "metadata": {
            "needs_background": "light"
          }
        }
      ]
    },
    {
      "cell_type": "code",
      "source": [
        "#for car evaluation dataset\n",
        "#Converting strings to integers\n",
        "car_column_names = [\"Buying\", \"Maintenance\", \"Doors\", \"Persons\", \"Lug_boot\", \"Safety\", \"Class\"]\n",
        "car_evaluation_dataset=load_dataset(dataset_2, column_name2)[car_column_names]\n",
        "\n",
        "# Assigning the values to car evaluation dataset using a dictionary\n",
        "buying = dict([('low', 0), ('med', 1), ('high', 2), ('vhigh', 3)])\n",
        "maint = dict([('low', 0), ('med', 1), ('high', 2), ('vhigh', 3)])\n",
        "doors = dict([('2', 0), ('3', 1), ('4', 2), ('5more', 3)])\n",
        "persons = dict([('2', 0), ('4', 1), ('more', 2)])\n",
        "lug_boot = dict([('small', 0), ('med', 1), ('big', 2)])\n",
        "safety = dict([('low', 0), ('med', 1), ('high', 2)])\n",
        "class_dict = dict([('unacc', 0), ('acc', 1), ('good', 2),('vgood', 3)])\n",
        "\n",
        "\n",
        "# Mapping the values as per specific columns\n",
        "car_evaluation_dataset.Buying = car_evaluation_dataset.Buying.map(buying)\n",
        "car_evaluation_dataset.Maintenance = car_evaluation_dataset.Maintenance.map(maint)\n",
        "car_evaluation_dataset.Lug_boot=car_evaluation_dataset.Lug_boot.map(lug_boot)\n",
        "car_evaluation_dataset.Safety=car_evaluation_dataset.Safety.map(safety)\n",
        "car_evaluation_dataset.Doors=car_evaluation_dataset.Doors.map(doors)\n",
        "car_evaluation_dataset.Persons=car_evaluation_dataset.Persons.map(persons)\n",
        "car_evaluation_dataset.Class=car_evaluation_dataset.Class.map(class_dict)\n",
        "\n",
        "print(\"Car evaluation dataset\", car_evaluation_dataset.values.tolist())"
      ],
      "metadata": {
        "colab": {
          "base_uri": "https://localhost:8080/"
        },
        "id": "5HXpMRz-Fdey",
        "outputId": "1cad632c-a51e-40d4-c852-d2398955c704"
      },
      "execution_count": null,
      "outputs": [
        {
          "output_type": "stream",
          "name": "stdout",
          "text": [
            "Car evaluation dataset [[3, 3, 0, 0, 0, 0, 0], [3, 3, 0, 0, 0, 1, 0], [3, 3, 0, 0, 0, 2, 0], [3, 3, 0, 0, 1, 0, 0], [3, 3, 0, 0, 1, 1, 0], [3, 3, 0, 0, 1, 2, 0], [3, 3, 0, 0, 2, 0, 0], [3, 3, 0, 0, 2, 1, 0], [3, 3, 0, 0, 2, 2, 0], [3, 3, 0, 1, 0, 0, 0], [3, 3, 0, 1, 0, 1, 0], [3, 3, 0, 1, 0, 2, 0], [3, 3, 0, 1, 1, 0, 0], [3, 3, 0, 1, 1, 1, 0], [3, 3, 0, 1, 1, 2, 0], [3, 3, 0, 1, 2, 0, 0], [3, 3, 0, 1, 2, 1, 0], [3, 3, 0, 1, 2, 2, 0], [3, 3, 0, 2, 0, 0, 0], [3, 3, 0, 2, 0, 1, 0], [3, 3, 0, 2, 0, 2, 0], [3, 3, 0, 2, 1, 0, 0], [3, 3, 0, 2, 1, 1, 0], [3, 3, 0, 2, 1, 2, 0], [3, 3, 0, 2, 2, 0, 0], [3, 3, 0, 2, 2, 1, 0], [3, 3, 0, 2, 2, 2, 0], [3, 3, 1, 0, 0, 0, 0], [3, 3, 1, 0, 0, 1, 0], [3, 3, 1, 0, 0, 2, 0], [3, 3, 1, 0, 1, 0, 0], [3, 3, 1, 0, 1, 1, 0], [3, 3, 1, 0, 1, 2, 0], [3, 3, 1, 0, 2, 0, 0], [3, 3, 1, 0, 2, 1, 0], [3, 3, 1, 0, 2, 2, 0], [3, 3, 1, 1, 0, 0, 0], [3, 3, 1, 1, 0, 1, 0], [3, 3, 1, 1, 0, 2, 0], [3, 3, 1, 1, 1, 0, 0], [3, 3, 1, 1, 1, 1, 0], [3, 3, 1, 1, 1, 2, 0], [3, 3, 1, 1, 2, 0, 0], [3, 3, 1, 1, 2, 1, 0], [3, 3, 1, 1, 2, 2, 0], [3, 3, 1, 2, 0, 0, 0], [3, 3, 1, 2, 0, 1, 0], [3, 3, 1, 2, 0, 2, 0], [3, 3, 1, 2, 1, 0, 0], [3, 3, 1, 2, 1, 1, 0], [3, 3, 1, 2, 1, 2, 0], [3, 3, 1, 2, 2, 0, 0], [3, 3, 1, 2, 2, 1, 0], [3, 3, 1, 2, 2, 2, 0], [3, 3, 2, 0, 0, 0, 0], [3, 3, 2, 0, 0, 1, 0], [3, 3, 2, 0, 0, 2, 0], [3, 3, 2, 0, 1, 0, 0], [3, 3, 2, 0, 1, 1, 0], [3, 3, 2, 0, 1, 2, 0], [3, 3, 2, 0, 2, 0, 0], [3, 3, 2, 0, 2, 1, 0], [3, 3, 2, 0, 2, 2, 0], [3, 3, 2, 1, 0, 0, 0], [3, 3, 2, 1, 0, 1, 0], [3, 3, 2, 1, 0, 2, 0], [3, 3, 2, 1, 1, 0, 0], [3, 3, 2, 1, 1, 1, 0], [3, 3, 2, 1, 1, 2, 0], [3, 3, 2, 1, 2, 0, 0], [3, 3, 2, 1, 2, 1, 0], [3, 3, 2, 1, 2, 2, 0], [3, 3, 2, 2, 0, 0, 0], [3, 3, 2, 2, 0, 1, 0], [3, 3, 2, 2, 0, 2, 0], [3, 3, 2, 2, 1, 0, 0], [3, 3, 2, 2, 1, 1, 0], [3, 3, 2, 2, 1, 2, 0], [3, 3, 2, 2, 2, 0, 0], [3, 3, 2, 2, 2, 1, 0], [3, 3, 2, 2, 2, 2, 0], [3, 3, 3, 0, 0, 0, 0], [3, 3, 3, 0, 0, 1, 0], [3, 3, 3, 0, 0, 2, 0], [3, 3, 3, 0, 1, 0, 0], [3, 3, 3, 0, 1, 1, 0], [3, 3, 3, 0, 1, 2, 0], [3, 3, 3, 0, 2, 0, 0], [3, 3, 3, 0, 2, 1, 0], [3, 3, 3, 0, 2, 2, 0], [3, 3, 3, 1, 0, 0, 0], [3, 3, 3, 1, 0, 1, 0], [3, 3, 3, 1, 0, 2, 0], [3, 3, 3, 1, 1, 0, 0], [3, 3, 3, 1, 1, 1, 0], [3, 3, 3, 1, 1, 2, 0], [3, 3, 3, 1, 2, 0, 0], [3, 3, 3, 1, 2, 1, 0], [3, 3, 3, 1, 2, 2, 0], [3, 3, 3, 2, 0, 0, 0], [3, 3, 3, 2, 0, 1, 0], [3, 3, 3, 2, 0, 2, 0], [3, 3, 3, 2, 1, 0, 0], [3, 3, 3, 2, 1, 1, 0], [3, 3, 3, 2, 1, 2, 0], [3, 3, 3, 2, 2, 0, 0], [3, 3, 3, 2, 2, 1, 0], [3, 3, 3, 2, 2, 2, 0], [3, 2, 0, 0, 0, 0, 0], [3, 2, 0, 0, 0, 1, 0], [3, 2, 0, 0, 0, 2, 0], [3, 2, 0, 0, 1, 0, 0], [3, 2, 0, 0, 1, 1, 0], [3, 2, 0, 0, 1, 2, 0], [3, 2, 0, 0, 2, 0, 0], [3, 2, 0, 0, 2, 1, 0], [3, 2, 0, 0, 2, 2, 0], [3, 2, 0, 1, 0, 0, 0], [3, 2, 0, 1, 0, 1, 0], [3, 2, 0, 1, 0, 2, 0], [3, 2, 0, 1, 1, 0, 0], [3, 2, 0, 1, 1, 1, 0], [3, 2, 0, 1, 1, 2, 0], [3, 2, 0, 1, 2, 0, 0], [3, 2, 0, 1, 2, 1, 0], [3, 2, 0, 1, 2, 2, 0], [3, 2, 0, 2, 0, 0, 0], [3, 2, 0, 2, 0, 1, 0], [3, 2, 0, 2, 0, 2, 0], [3, 2, 0, 2, 1, 0, 0], [3, 2, 0, 2, 1, 1, 0], [3, 2, 0, 2, 1, 2, 0], [3, 2, 0, 2, 2, 0, 0], [3, 2, 0, 2, 2, 1, 0], [3, 2, 0, 2, 2, 2, 0], [3, 2, 1, 0, 0, 0, 0], [3, 2, 1, 0, 0, 1, 0], [3, 2, 1, 0, 0, 2, 0], [3, 2, 1, 0, 1, 0, 0], [3, 2, 1, 0, 1, 1, 0], [3, 2, 1, 0, 1, 2, 0], [3, 2, 1, 0, 2, 0, 0], [3, 2, 1, 0, 2, 1, 0], [3, 2, 1, 0, 2, 2, 0], [3, 2, 1, 1, 0, 0, 0], [3, 2, 1, 1, 0, 1, 0], [3, 2, 1, 1, 0, 2, 0], [3, 2, 1, 1, 1, 0, 0], [3, 2, 1, 1, 1, 1, 0], [3, 2, 1, 1, 1, 2, 0], [3, 2, 1, 1, 2, 0, 0], [3, 2, 1, 1, 2, 1, 0], [3, 2, 1, 1, 2, 2, 0], [3, 2, 1, 2, 0, 0, 0], [3, 2, 1, 2, 0, 1, 0], [3, 2, 1, 2, 0, 2, 0], [3, 2, 1, 2, 1, 0, 0], [3, 2, 1, 2, 1, 1, 0], [3, 2, 1, 2, 1, 2, 0], [3, 2, 1, 2, 2, 0, 0], [3, 2, 1, 2, 2, 1, 0], [3, 2, 1, 2, 2, 2, 0], [3, 2, 2, 0, 0, 0, 0], [3, 2, 2, 0, 0, 1, 0], [3, 2, 2, 0, 0, 2, 0], [3, 2, 2, 0, 1, 0, 0], [3, 2, 2, 0, 1, 1, 0], [3, 2, 2, 0, 1, 2, 0], [3, 2, 2, 0, 2, 0, 0], [3, 2, 2, 0, 2, 1, 0], [3, 2, 2, 0, 2, 2, 0], [3, 2, 2, 1, 0, 0, 0], [3, 2, 2, 1, 0, 1, 0], [3, 2, 2, 1, 0, 2, 0], [3, 2, 2, 1, 1, 0, 0], [3, 2, 2, 1, 1, 1, 0], [3, 2, 2, 1, 1, 2, 0], [3, 2, 2, 1, 2, 0, 0], [3, 2, 2, 1, 2, 1, 0], [3, 2, 2, 1, 2, 2, 0], [3, 2, 2, 2, 0, 0, 0], [3, 2, 2, 2, 0, 1, 0], [3, 2, 2, 2, 0, 2, 0], [3, 2, 2, 2, 1, 0, 0], [3, 2, 2, 2, 1, 1, 0], [3, 2, 2, 2, 1, 2, 0], [3, 2, 2, 2, 2, 0, 0], [3, 2, 2, 2, 2, 1, 0], [3, 2, 2, 2, 2, 2, 0], [3, 2, 3, 0, 0, 0, 0], [3, 2, 3, 0, 0, 1, 0], [3, 2, 3, 0, 0, 2, 0], [3, 2, 3, 0, 1, 0, 0], [3, 2, 3, 0, 1, 1, 0], [3, 2, 3, 0, 1, 2, 0], [3, 2, 3, 0, 2, 0, 0], [3, 2, 3, 0, 2, 1, 0], [3, 2, 3, 0, 2, 2, 0], [3, 2, 3, 1, 0, 0, 0], [3, 2, 3, 1, 0, 1, 0], [3, 2, 3, 1, 0, 2, 0], [3, 2, 3, 1, 1, 0, 0], [3, 2, 3, 1, 1, 1, 0], [3, 2, 3, 1, 1, 2, 0], [3, 2, 3, 1, 2, 0, 0], [3, 2, 3, 1, 2, 1, 0], [3, 2, 3, 1, 2, 2, 0], [3, 2, 3, 2, 0, 0, 0], [3, 2, 3, 2, 0, 1, 0], [3, 2, 3, 2, 0, 2, 0], [3, 2, 3, 2, 1, 0, 0], [3, 2, 3, 2, 1, 1, 0], [3, 2, 3, 2, 1, 2, 0], [3, 2, 3, 2, 2, 0, 0], [3, 2, 3, 2, 2, 1, 0], [3, 2, 3, 2, 2, 2, 0], [3, 1, 0, 0, 0, 0, 0], [3, 1, 0, 0, 0, 1, 0], [3, 1, 0, 0, 0, 2, 0], [3, 1, 0, 0, 1, 0, 0], [3, 1, 0, 0, 1, 1, 0], [3, 1, 0, 0, 1, 2, 0], [3, 1, 0, 0, 2, 0, 0], [3, 1, 0, 0, 2, 1, 0], [3, 1, 0, 0, 2, 2, 0], [3, 1, 0, 1, 0, 0, 0], [3, 1, 0, 1, 0, 1, 0], [3, 1, 0, 1, 0, 2, 1], [3, 1, 0, 1, 1, 0, 0], [3, 1, 0, 1, 1, 1, 0], [3, 1, 0, 1, 1, 2, 1], [3, 1, 0, 1, 2, 0, 0], [3, 1, 0, 1, 2, 1, 1], [3, 1, 0, 1, 2, 2, 1], [3, 1, 0, 2, 0, 0, 0], [3, 1, 0, 2, 0, 1, 0], [3, 1, 0, 2, 0, 2, 0], [3, 1, 0, 2, 1, 0, 0], [3, 1, 0, 2, 1, 1, 0], [3, 1, 0, 2, 1, 2, 1], [3, 1, 0, 2, 2, 0, 0], [3, 1, 0, 2, 2, 1, 1], [3, 1, 0, 2, 2, 2, 1], [3, 1, 1, 0, 0, 0, 0], [3, 1, 1, 0, 0, 1, 0], [3, 1, 1, 0, 0, 2, 0], [3, 1, 1, 0, 1, 0, 0], [3, 1, 1, 0, 1, 1, 0], [3, 1, 1, 0, 1, 2, 0], [3, 1, 1, 0, 2, 0, 0], [3, 1, 1, 0, 2, 1, 0], [3, 1, 1, 0, 2, 2, 0], [3, 1, 1, 1, 0, 0, 0], [3, 1, 1, 1, 0, 1, 0], [3, 1, 1, 1, 0, 2, 1], [3, 1, 1, 1, 1, 0, 0], [3, 1, 1, 1, 1, 1, 0], [3, 1, 1, 1, 1, 2, 1], [3, 1, 1, 1, 2, 0, 0], [3, 1, 1, 1, 2, 1, 1], [3, 1, 1, 1, 2, 2, 1], [3, 1, 1, 2, 0, 0, 0], [3, 1, 1, 2, 0, 1, 0], [3, 1, 1, 2, 0, 2, 1], [3, 1, 1, 2, 1, 0, 0], [3, 1, 1, 2, 1, 1, 1], [3, 1, 1, 2, 1, 2, 1], [3, 1, 1, 2, 2, 0, 0], [3, 1, 1, 2, 2, 1, 1], [3, 1, 1, 2, 2, 2, 1], [3, 1, 2, 0, 0, 0, 0], [3, 1, 2, 0, 0, 1, 0], [3, 1, 2, 0, 0, 2, 0], [3, 1, 2, 0, 1, 0, 0], [3, 1, 2, 0, 1, 1, 0], [3, 1, 2, 0, 1, 2, 0], [3, 1, 2, 0, 2, 0, 0], [3, 1, 2, 0, 2, 1, 0], [3, 1, 2, 0, 2, 2, 0], [3, 1, 2, 1, 0, 0, 0], [3, 1, 2, 1, 0, 1, 0], [3, 1, 2, 1, 0, 2, 1], [3, 1, 2, 1, 1, 0, 0], [3, 1, 2, 1, 1, 1, 1], [3, 1, 2, 1, 1, 2, 1], [3, 1, 2, 1, 2, 0, 0], [3, 1, 2, 1, 2, 1, 1], [3, 1, 2, 1, 2, 2, 1], [3, 1, 2, 2, 0, 0, 0], [3, 1, 2, 2, 0, 1, 0], [3, 1, 2, 2, 0, 2, 1], [3, 1, 2, 2, 1, 0, 0], [3, 1, 2, 2, 1, 1, 1], [3, 1, 2, 2, 1, 2, 1], [3, 1, 2, 2, 2, 0, 0], [3, 1, 2, 2, 2, 1, 1], [3, 1, 2, 2, 2, 2, 1], [3, 1, 3, 0, 0, 0, 0], [3, 1, 3, 0, 0, 1, 0], [3, 1, 3, 0, 0, 2, 0], [3, 1, 3, 0, 1, 0, 0], [3, 1, 3, 0, 1, 1, 0], [3, 1, 3, 0, 1, 2, 0], [3, 1, 3, 0, 2, 0, 0], [3, 1, 3, 0, 2, 1, 0], [3, 1, 3, 0, 2, 2, 0], [3, 1, 3, 1, 0, 0, 0], [3, 1, 3, 1, 0, 1, 0], [3, 1, 3, 1, 0, 2, 1], [3, 1, 3, 1, 1, 0, 0], [3, 1, 3, 1, 1, 1, 1], [3, 1, 3, 1, 1, 2, 1], [3, 1, 3, 1, 2, 0, 0], [3, 1, 3, 1, 2, 1, 1], [3, 1, 3, 1, 2, 2, 1], [3, 1, 3, 2, 0, 0, 0], [3, 1, 3, 2, 0, 1, 0], [3, 1, 3, 2, 0, 2, 1], [3, 1, 3, 2, 1, 0, 0], [3, 1, 3, 2, 1, 1, 1], [3, 1, 3, 2, 1, 2, 1], [3, 1, 3, 2, 2, 0, 0], [3, 1, 3, 2, 2, 1, 1], [3, 1, 3, 2, 2, 2, 1], [3, 0, 0, 0, 0, 0, 0], [3, 0, 0, 0, 0, 1, 0], [3, 0, 0, 0, 0, 2, 0], [3, 0, 0, 0, 1, 0, 0], [3, 0, 0, 0, 1, 1, 0], [3, 0, 0, 0, 1, 2, 0], [3, 0, 0, 0, 2, 0, 0], [3, 0, 0, 0, 2, 1, 0], [3, 0, 0, 0, 2, 2, 0], [3, 0, 0, 1, 0, 0, 0], [3, 0, 0, 1, 0, 1, 0], [3, 0, 0, 1, 0, 2, 1], [3, 0, 0, 1, 1, 0, 0], [3, 0, 0, 1, 1, 1, 0], [3, 0, 0, 1, 1, 2, 1], [3, 0, 0, 1, 2, 0, 0], [3, 0, 0, 1, 2, 1, 1], [3, 0, 0, 1, 2, 2, 1], [3, 0, 0, 2, 0, 0, 0], [3, 0, 0, 2, 0, 1, 0], [3, 0, 0, 2, 0, 2, 0], [3, 0, 0, 2, 1, 0, 0], [3, 0, 0, 2, 1, 1, 0], [3, 0, 0, 2, 1, 2, 1], [3, 0, 0, 2, 2, 0, 0], [3, 0, 0, 2, 2, 1, 1], [3, 0, 0, 2, 2, 2, 1], [3, 0, 1, 0, 0, 0, 0], [3, 0, 1, 0, 0, 1, 0], [3, 0, 1, 0, 0, 2, 0], [3, 0, 1, 0, 1, 0, 0], [3, 0, 1, 0, 1, 1, 0], [3, 0, 1, 0, 1, 2, 0], [3, 0, 1, 0, 2, 0, 0], [3, 0, 1, 0, 2, 1, 0], [3, 0, 1, 0, 2, 2, 0], [3, 0, 1, 1, 0, 0, 0], [3, 0, 1, 1, 0, 1, 0], [3, 0, 1, 1, 0, 2, 1], [3, 0, 1, 1, 1, 0, 0], [3, 0, 1, 1, 1, 1, 0], [3, 0, 1, 1, 1, 2, 1], [3, 0, 1, 1, 2, 0, 0], [3, 0, 1, 1, 2, 1, 1], [3, 0, 1, 1, 2, 2, 1], [3, 0, 1, 2, 0, 0, 0], [3, 0, 1, 2, 0, 1, 0], [3, 0, 1, 2, 0, 2, 1], [3, 0, 1, 2, 1, 0, 0], [3, 0, 1, 2, 1, 1, 1], [3, 0, 1, 2, 1, 2, 1], [3, 0, 1, 2, 2, 0, 0], [3, 0, 1, 2, 2, 1, 1], [3, 0, 1, 2, 2, 2, 1], [3, 0, 2, 0, 0, 0, 0], [3, 0, 2, 0, 0, 1, 0], [3, 0, 2, 0, 0, 2, 0], [3, 0, 2, 0, 1, 0, 0], [3, 0, 2, 0, 1, 1, 0], [3, 0, 2, 0, 1, 2, 0], [3, 0, 2, 0, 2, 0, 0], [3, 0, 2, 0, 2, 1, 0], [3, 0, 2, 0, 2, 2, 0], [3, 0, 2, 1, 0, 0, 0], [3, 0, 2, 1, 0, 1, 0], [3, 0, 2, 1, 0, 2, 1], [3, 0, 2, 1, 1, 0, 0], [3, 0, 2, 1, 1, 1, 1], [3, 0, 2, 1, 1, 2, 1], [3, 0, 2, 1, 2, 0, 0], [3, 0, 2, 1, 2, 1, 1], [3, 0, 2, 1, 2, 2, 1], [3, 0, 2, 2, 0, 0, 0], [3, 0, 2, 2, 0, 1, 0], [3, 0, 2, 2, 0, 2, 1], [3, 0, 2, 2, 1, 0, 0], [3, 0, 2, 2, 1, 1, 1], [3, 0, 2, 2, 1, 2, 1], [3, 0, 2, 2, 2, 0, 0], [3, 0, 2, 2, 2, 1, 1], [3, 0, 2, 2, 2, 2, 1], [3, 0, 3, 0, 0, 0, 0], [3, 0, 3, 0, 0, 1, 0], [3, 0, 3, 0, 0, 2, 0], [3, 0, 3, 0, 1, 0, 0], [3, 0, 3, 0, 1, 1, 0], [3, 0, 3, 0, 1, 2, 0], [3, 0, 3, 0, 2, 0, 0], [3, 0, 3, 0, 2, 1, 0], [3, 0, 3, 0, 2, 2, 0], [3, 0, 3, 1, 0, 0, 0], [3, 0, 3, 1, 0, 1, 0], [3, 0, 3, 1, 0, 2, 1], [3, 0, 3, 1, 1, 0, 0], [3, 0, 3, 1, 1, 1, 1], [3, 0, 3, 1, 1, 2, 1], [3, 0, 3, 1, 2, 0, 0], [3, 0, 3, 1, 2, 1, 1], [3, 0, 3, 1, 2, 2, 1], [3, 0, 3, 2, 0, 0, 0], [3, 0, 3, 2, 0, 1, 0], [3, 0, 3, 2, 0, 2, 1], [3, 0, 3, 2, 1, 0, 0], [3, 0, 3, 2, 1, 1, 1], [3, 0, 3, 2, 1, 2, 1], [3, 0, 3, 2, 2, 0, 0], [3, 0, 3, 2, 2, 1, 1], [3, 0, 3, 2, 2, 2, 1], [2, 3, 0, 0, 0, 0, 0], [2, 3, 0, 0, 0, 1, 0], [2, 3, 0, 0, 0, 2, 0], [2, 3, 0, 0, 1, 0, 0], [2, 3, 0, 0, 1, 1, 0], [2, 3, 0, 0, 1, 2, 0], [2, 3, 0, 0, 2, 0, 0], [2, 3, 0, 0, 2, 1, 0], [2, 3, 0, 0, 2, 2, 0], [2, 3, 0, 1, 0, 0, 0], [2, 3, 0, 1, 0, 1, 0], [2, 3, 0, 1, 0, 2, 0], [2, 3, 0, 1, 1, 0, 0], [2, 3, 0, 1, 1, 1, 0], [2, 3, 0, 1, 1, 2, 0], [2, 3, 0, 1, 2, 0, 0], [2, 3, 0, 1, 2, 1, 0], [2, 3, 0, 1, 2, 2, 0], [2, 3, 0, 2, 0, 0, 0], [2, 3, 0, 2, 0, 1, 0], [2, 3, 0, 2, 0, 2, 0], [2, 3, 0, 2, 1, 0, 0], [2, 3, 0, 2, 1, 1, 0], [2, 3, 0, 2, 1, 2, 0], [2, 3, 0, 2, 2, 0, 0], [2, 3, 0, 2, 2, 1, 0], [2, 3, 0, 2, 2, 2, 0], [2, 3, 1, 0, 0, 0, 0], [2, 3, 1, 0, 0, 1, 0], [2, 3, 1, 0, 0, 2, 0], [2, 3, 1, 0, 1, 0, 0], [2, 3, 1, 0, 1, 1, 0], [2, 3, 1, 0, 1, 2, 0], [2, 3, 1, 0, 2, 0, 0], [2, 3, 1, 0, 2, 1, 0], [2, 3, 1, 0, 2, 2, 0], [2, 3, 1, 1, 0, 0, 0], [2, 3, 1, 1, 0, 1, 0], [2, 3, 1, 1, 0, 2, 0], [2, 3, 1, 1, 1, 0, 0], [2, 3, 1, 1, 1, 1, 0], [2, 3, 1, 1, 1, 2, 0], [2, 3, 1, 1, 2, 0, 0], [2, 3, 1, 1, 2, 1, 0], [2, 3, 1, 1, 2, 2, 0], [2, 3, 1, 2, 0, 0, 0], [2, 3, 1, 2, 0, 1, 0], [2, 3, 1, 2, 0, 2, 0], [2, 3, 1, 2, 1, 0, 0], [2, 3, 1, 2, 1, 1, 0], [2, 3, 1, 2, 1, 2, 0], [2, 3, 1, 2, 2, 0, 0], [2, 3, 1, 2, 2, 1, 0], [2, 3, 1, 2, 2, 2, 0], [2, 3, 2, 0, 0, 0, 0], [2, 3, 2, 0, 0, 1, 0], [2, 3, 2, 0, 0, 2, 0], [2, 3, 2, 0, 1, 0, 0], [2, 3, 2, 0, 1, 1, 0], [2, 3, 2, 0, 1, 2, 0], [2, 3, 2, 0, 2, 0, 0], [2, 3, 2, 0, 2, 1, 0], [2, 3, 2, 0, 2, 2, 0], [2, 3, 2, 1, 0, 0, 0], [2, 3, 2, 1, 0, 1, 0], [2, 3, 2, 1, 0, 2, 0], [2, 3, 2, 1, 1, 0, 0], [2, 3, 2, 1, 1, 1, 0], [2, 3, 2, 1, 1, 2, 0], [2, 3, 2, 1, 2, 0, 0], [2, 3, 2, 1, 2, 1, 0], [2, 3, 2, 1, 2, 2, 0], [2, 3, 2, 2, 0, 0, 0], [2, 3, 2, 2, 0, 1, 0], [2, 3, 2, 2, 0, 2, 0], [2, 3, 2, 2, 1, 0, 0], [2, 3, 2, 2, 1, 1, 0], [2, 3, 2, 2, 1, 2, 0], [2, 3, 2, 2, 2, 0, 0], [2, 3, 2, 2, 2, 1, 0], [2, 3, 2, 2, 2, 2, 0], [2, 3, 3, 0, 0, 0, 0], [2, 3, 3, 0, 0, 1, 0], [2, 3, 3, 0, 0, 2, 0], [2, 3, 3, 0, 1, 0, 0], [2, 3, 3, 0, 1, 1, 0], [2, 3, 3, 0, 1, 2, 0], [2, 3, 3, 0, 2, 0, 0], [2, 3, 3, 0, 2, 1, 0], [2, 3, 3, 0, 2, 2, 0], [2, 3, 3, 1, 0, 0, 0], [2, 3, 3, 1, 0, 1, 0], [2, 3, 3, 1, 0, 2, 0], [2, 3, 3, 1, 1, 0, 0], [2, 3, 3, 1, 1, 1, 0], [2, 3, 3, 1, 1, 2, 0], [2, 3, 3, 1, 2, 0, 0], [2, 3, 3, 1, 2, 1, 0], [2, 3, 3, 1, 2, 2, 0], [2, 3, 3, 2, 0, 0, 0], [2, 3, 3, 2, 0, 1, 0], [2, 3, 3, 2, 0, 2, 0], [2, 3, 3, 2, 1, 0, 0], [2, 3, 3, 2, 1, 1, 0], [2, 3, 3, 2, 1, 2, 0], [2, 3, 3, 2, 2, 0, 0], [2, 3, 3, 2, 2, 1, 0], [2, 3, 3, 2, 2, 2, 0], [2, 2, 0, 0, 0, 0, 0], [2, 2, 0, 0, 0, 1, 0], [2, 2, 0, 0, 0, 2, 0], [2, 2, 0, 0, 1, 0, 0], [2, 2, 0, 0, 1, 1, 0], [2, 2, 0, 0, 1, 2, 0], [2, 2, 0, 0, 2, 0, 0], [2, 2, 0, 0, 2, 1, 0], [2, 2, 0, 0, 2, 2, 0], [2, 2, 0, 1, 0, 0, 0], [2, 2, 0, 1, 0, 1, 0], [2, 2, 0, 1, 0, 2, 1], [2, 2, 0, 1, 1, 0, 0], [2, 2, 0, 1, 1, 1, 0], [2, 2, 0, 1, 1, 2, 1], [2, 2, 0, 1, 2, 0, 0], [2, 2, 0, 1, 2, 1, 1], [2, 2, 0, 1, 2, 2, 1], [2, 2, 0, 2, 0, 0, 0], [2, 2, 0, 2, 0, 1, 0], [2, 2, 0, 2, 0, 2, 0], [2, 2, 0, 2, 1, 0, 0], [2, 2, 0, 2, 1, 1, 0], [2, 2, 0, 2, 1, 2, 1], [2, 2, 0, 2, 2, 0, 0], [2, 2, 0, 2, 2, 1, 1], [2, 2, 0, 2, 2, 2, 1], [2, 2, 1, 0, 0, 0, 0], [2, 2, 1, 0, 0, 1, 0], [2, 2, 1, 0, 0, 2, 0], [2, 2, 1, 0, 1, 0, 0], [2, 2, 1, 0, 1, 1, 0], [2, 2, 1, 0, 1, 2, 0], [2, 2, 1, 0, 2, 0, 0], [2, 2, 1, 0, 2, 1, 0], [2, 2, 1, 0, 2, 2, 0], [2, 2, 1, 1, 0, 0, 0], [2, 2, 1, 1, 0, 1, 0], [2, 2, 1, 1, 0, 2, 1], [2, 2, 1, 1, 1, 0, 0], [2, 2, 1, 1, 1, 1, 0], [2, 2, 1, 1, 1, 2, 1], [2, 2, 1, 1, 2, 0, 0], [2, 2, 1, 1, 2, 1, 1], [2, 2, 1, 1, 2, 2, 1], [2, 2, 1, 2, 0, 0, 0], [2, 2, 1, 2, 0, 1, 0], [2, 2, 1, 2, 0, 2, 1], [2, 2, 1, 2, 1, 0, 0], [2, 2, 1, 2, 1, 1, 1], [2, 2, 1, 2, 1, 2, 1], [2, 2, 1, 2, 2, 0, 0], [2, 2, 1, 2, 2, 1, 1], [2, 2, 1, 2, 2, 2, 1], [2, 2, 2, 0, 0, 0, 0], [2, 2, 2, 0, 0, 1, 0], [2, 2, 2, 0, 0, 2, 0], [2, 2, 2, 0, 1, 0, 0], [2, 2, 2, 0, 1, 1, 0], [2, 2, 2, 0, 1, 2, 0], [2, 2, 2, 0, 2, 0, 0], [2, 2, 2, 0, 2, 1, 0], [2, 2, 2, 0, 2, 2, 0], [2, 2, 2, 1, 0, 0, 0], [2, 2, 2, 1, 0, 1, 0], [2, 2, 2, 1, 0, 2, 1], [2, 2, 2, 1, 1, 0, 0], [2, 2, 2, 1, 1, 1, 1], [2, 2, 2, 1, 1, 2, 1], [2, 2, 2, 1, 2, 0, 0], [2, 2, 2, 1, 2, 1, 1], [2, 2, 2, 1, 2, 2, 1], [2, 2, 2, 2, 0, 0, 0], [2, 2, 2, 2, 0, 1, 0], [2, 2, 2, 2, 0, 2, 1], [2, 2, 2, 2, 1, 0, 0], [2, 2, 2, 2, 1, 1, 1], [2, 2, 2, 2, 1, 2, 1], [2, 2, 2, 2, 2, 0, 0], [2, 2, 2, 2, 2, 1, 1], [2, 2, 2, 2, 2, 2, 1], [2, 2, 3, 0, 0, 0, 0], [2, 2, 3, 0, 0, 1, 0], [2, 2, 3, 0, 0, 2, 0], [2, 2, 3, 0, 1, 0, 0], [2, 2, 3, 0, 1, 1, 0], [2, 2, 3, 0, 1, 2, 0], [2, 2, 3, 0, 2, 0, 0], [2, 2, 3, 0, 2, 1, 0], [2, 2, 3, 0, 2, 2, 0], [2, 2, 3, 1, 0, 0, 0], [2, 2, 3, 1, 0, 1, 0], [2, 2, 3, 1, 0, 2, 1], [2, 2, 3, 1, 1, 0, 0], [2, 2, 3, 1, 1, 1, 1], [2, 2, 3, 1, 1, 2, 1], [2, 2, 3, 1, 2, 0, 0], [2, 2, 3, 1, 2, 1, 1], [2, 2, 3, 1, 2, 2, 1], [2, 2, 3, 2, 0, 0, 0], [2, 2, 3, 2, 0, 1, 0], [2, 2, 3, 2, 0, 2, 1], [2, 2, 3, 2, 1, 0, 0], [2, 2, 3, 2, 1, 1, 1], [2, 2, 3, 2, 1, 2, 1], [2, 2, 3, 2, 2, 0, 0], [2, 2, 3, 2, 2, 1, 1], [2, 2, 3, 2, 2, 2, 1], [2, 1, 0, 0, 0, 0, 0], [2, 1, 0, 0, 0, 1, 0], [2, 1, 0, 0, 0, 2, 0], [2, 1, 0, 0, 1, 0, 0], [2, 1, 0, 0, 1, 1, 0], [2, 1, 0, 0, 1, 2, 0], [2, 1, 0, 0, 2, 0, 0], [2, 1, 0, 0, 2, 1, 0], [2, 1, 0, 0, 2, 2, 0], [2, 1, 0, 1, 0, 0, 0], [2, 1, 0, 1, 0, 1, 0], [2, 1, 0, 1, 0, 2, 1], [2, 1, 0, 1, 1, 0, 0], [2, 1, 0, 1, 1, 1, 0], [2, 1, 0, 1, 1, 2, 1], [2, 1, 0, 1, 2, 0, 0], [2, 1, 0, 1, 2, 1, 1], [2, 1, 0, 1, 2, 2, 1], [2, 1, 0, 2, 0, 0, 0], [2, 1, 0, 2, 0, 1, 0], [2, 1, 0, 2, 0, 2, 0], [2, 1, 0, 2, 1, 0, 0], [2, 1, 0, 2, 1, 1, 0], [2, 1, 0, 2, 1, 2, 1], [2, 1, 0, 2, 2, 0, 0], [2, 1, 0, 2, 2, 1, 1], [2, 1, 0, 2, 2, 2, 1], [2, 1, 1, 0, 0, 0, 0], [2, 1, 1, 0, 0, 1, 0], [2, 1, 1, 0, 0, 2, 0], [2, 1, 1, 0, 1, 0, 0], [2, 1, 1, 0, 1, 1, 0], [2, 1, 1, 0, 1, 2, 0], [2, 1, 1, 0, 2, 0, 0], [2, 1, 1, 0, 2, 1, 0], [2, 1, 1, 0, 2, 2, 0], [2, 1, 1, 1, 0, 0, 0], [2, 1, 1, 1, 0, 1, 0], [2, 1, 1, 1, 0, 2, 1], [2, 1, 1, 1, 1, 0, 0], [2, 1, 1, 1, 1, 1, 0], [2, 1, 1, 1, 1, 2, 1], [2, 1, 1, 1, 2, 0, 0], [2, 1, 1, 1, 2, 1, 1], [2, 1, 1, 1, 2, 2, 1], [2, 1, 1, 2, 0, 0, 0], [2, 1, 1, 2, 0, 1, 0], [2, 1, 1, 2, 0, 2, 1], [2, 1, 1, 2, 1, 0, 0], [2, 1, 1, 2, 1, 1, 1], [2, 1, 1, 2, 1, 2, 1], [2, 1, 1, 2, 2, 0, 0], [2, 1, 1, 2, 2, 1, 1], [2, 1, 1, 2, 2, 2, 1], [2, 1, 2, 0, 0, 0, 0], [2, 1, 2, 0, 0, 1, 0], [2, 1, 2, 0, 0, 2, 0], [2, 1, 2, 0, 1, 0, 0], [2, 1, 2, 0, 1, 1, 0], [2, 1, 2, 0, 1, 2, 0], [2, 1, 2, 0, 2, 0, 0], [2, 1, 2, 0, 2, 1, 0], [2, 1, 2, 0, 2, 2, 0], [2, 1, 2, 1, 0, 0, 0], [2, 1, 2, 1, 0, 1, 0], [2, 1, 2, 1, 0, 2, 1], [2, 1, 2, 1, 1, 0, 0], [2, 1, 2, 1, 1, 1, 1], [2, 1, 2, 1, 1, 2, 1], [2, 1, 2, 1, 2, 0, 0], [2, 1, 2, 1, 2, 1, 1], [2, 1, 2, 1, 2, 2, 1], [2, 1, 2, 2, 0, 0, 0], [2, 1, 2, 2, 0, 1, 0], [2, 1, 2, 2, 0, 2, 1], [2, 1, 2, 2, 1, 0, 0], [2, 1, 2, 2, 1, 1, 1], [2, 1, 2, 2, 1, 2, 1], [2, 1, 2, 2, 2, 0, 0], [2, 1, 2, 2, 2, 1, 1], [2, 1, 2, 2, 2, 2, 1], [2, 1, 3, 0, 0, 0, 0], [2, 1, 3, 0, 0, 1, 0], [2, 1, 3, 0, 0, 2, 0], [2, 1, 3, 0, 1, 0, 0], [2, 1, 3, 0, 1, 1, 0], [2, 1, 3, 0, 1, 2, 0], [2, 1, 3, 0, 2, 0, 0], [2, 1, 3, 0, 2, 1, 0], [2, 1, 3, 0, 2, 2, 0], [2, 1, 3, 1, 0, 0, 0], [2, 1, 3, 1, 0, 1, 0], [2, 1, 3, 1, 0, 2, 1], [2, 1, 3, 1, 1, 0, 0], [2, 1, 3, 1, 1, 1, 1], [2, 1, 3, 1, 1, 2, 1], [2, 1, 3, 1, 2, 0, 0], [2, 1, 3, 1, 2, 1, 1], [2, 1, 3, 1, 2, 2, 1], [2, 1, 3, 2, 0, 0, 0], [2, 1, 3, 2, 0, 1, 0], [2, 1, 3, 2, 0, 2, 1], [2, 1, 3, 2, 1, 0, 0], [2, 1, 3, 2, 1, 1, 1], [2, 1, 3, 2, 1, 2, 1], [2, 1, 3, 2, 2, 0, 0], [2, 1, 3, 2, 2, 1, 1], [2, 1, 3, 2, 2, 2, 1], [2, 0, 0, 0, 0, 0, 0], [2, 0, 0, 0, 0, 1, 0], [2, 0, 0, 0, 0, 2, 0], [2, 0, 0, 0, 1, 0, 0], [2, 0, 0, 0, 1, 1, 0], [2, 0, 0, 0, 1, 2, 0], [2, 0, 0, 0, 2, 0, 0], [2, 0, 0, 0, 2, 1, 0], [2, 0, 0, 0, 2, 2, 0], [2, 0, 0, 1, 0, 0, 0], [2, 0, 0, 1, 0, 1, 0], [2, 0, 0, 1, 0, 2, 1], [2, 0, 0, 1, 1, 0, 0], [2, 0, 0, 1, 1, 1, 0], [2, 0, 0, 1, 1, 2, 1], [2, 0, 0, 1, 2, 0, 0], [2, 0, 0, 1, 2, 1, 1], [2, 0, 0, 1, 2, 2, 1], [2, 0, 0, 2, 0, 0, 0], [2, 0, 0, 2, 0, 1, 0], [2, 0, 0, 2, 0, 2, 0], [2, 0, 0, 2, 1, 0, 0], [2, 0, 0, 2, 1, 1, 0], [2, 0, 0, 2, 1, 2, 1], [2, 0, 0, 2, 2, 0, 0], [2, 0, 0, 2, 2, 1, 1], [2, 0, 0, 2, 2, 2, 1], [2, 0, 1, 0, 0, 0, 0], [2, 0, 1, 0, 0, 1, 0], [2, 0, 1, 0, 0, 2, 0], [2, 0, 1, 0, 1, 0, 0], [2, 0, 1, 0, 1, 1, 0], [2, 0, 1, 0, 1, 2, 0], [2, 0, 1, 0, 2, 0, 0], [2, 0, 1, 0, 2, 1, 0], [2, 0, 1, 0, 2, 2, 0], [2, 0, 1, 1, 0, 0, 0], [2, 0, 1, 1, 0, 1, 0], [2, 0, 1, 1, 0, 2, 1], [2, 0, 1, 1, 1, 0, 0], [2, 0, 1, 1, 1, 1, 0], [2, 0, 1, 1, 1, 2, 1], [2, 0, 1, 1, 2, 0, 0], [2, 0, 1, 1, 2, 1, 1], [2, 0, 1, 1, 2, 2, 1], [2, 0, 1, 2, 0, 0, 0], [2, 0, 1, 2, 0, 1, 0], [2, 0, 1, 2, 0, 2, 1], [2, 0, 1, 2, 1, 0, 0], [2, 0, 1, 2, 1, 1, 1], [2, 0, 1, 2, 1, 2, 1], [2, 0, 1, 2, 2, 0, 0], [2, 0, 1, 2, 2, 1, 1], [2, 0, 1, 2, 2, 2, 1], [2, 0, 2, 0, 0, 0, 0], [2, 0, 2, 0, 0, 1, 0], [2, 0, 2, 0, 0, 2, 0], [2, 0, 2, 0, 1, 0, 0], [2, 0, 2, 0, 1, 1, 0], [2, 0, 2, 0, 1, 2, 0], [2, 0, 2, 0, 2, 0, 0], [2, 0, 2, 0, 2, 1, 0], [2, 0, 2, 0, 2, 2, 0], [2, 0, 2, 1, 0, 0, 0], [2, 0, 2, 1, 0, 1, 0], [2, 0, 2, 1, 0, 2, 1], [2, 0, 2, 1, 1, 0, 0], [2, 0, 2, 1, 1, 1, 1], [2, 0, 2, 1, 1, 2, 1], [2, 0, 2, 1, 2, 0, 0], [2, 0, 2, 1, 2, 1, 1], [2, 0, 2, 1, 2, 2, 1], [2, 0, 2, 2, 0, 0, 0], [2, 0, 2, 2, 0, 1, 0], [2, 0, 2, 2, 0, 2, 1], [2, 0, 2, 2, 1, 0, 0], [2, 0, 2, 2, 1, 1, 1], [2, 0, 2, 2, 1, 2, 1], [2, 0, 2, 2, 2, 0, 0], [2, 0, 2, 2, 2, 1, 1], [2, 0, 2, 2, 2, 2, 1], [2, 0, 3, 0, 0, 0, 0], [2, 0, 3, 0, 0, 1, 0], [2, 0, 3, 0, 0, 2, 0], [2, 0, 3, 0, 1, 0, 0], [2, 0, 3, 0, 1, 1, 0], [2, 0, 3, 0, 1, 2, 0], [2, 0, 3, 0, 2, 0, 0], [2, 0, 3, 0, 2, 1, 0], [2, 0, 3, 0, 2, 2, 0], [2, 0, 3, 1, 0, 0, 0], [2, 0, 3, 1, 0, 1, 0], [2, 0, 3, 1, 0, 2, 1], [2, 0, 3, 1, 1, 0, 0], [2, 0, 3, 1, 1, 1, 1], [2, 0, 3, 1, 1, 2, 1], [2, 0, 3, 1, 2, 0, 0], [2, 0, 3, 1, 2, 1, 1], [2, 0, 3, 1, 2, 2, 1], [2, 0, 3, 2, 0, 0, 0], [2, 0, 3, 2, 0, 1, 0], [2, 0, 3, 2, 0, 2, 1], [2, 0, 3, 2, 1, 0, 0], [2, 0, 3, 2, 1, 1, 1], [2, 0, 3, 2, 1, 2, 1], [2, 0, 3, 2, 2, 0, 0], [2, 0, 3, 2, 2, 1, 1], [2, 0, 3, 2, 2, 2, 1], [1, 3, 0, 0, 0, 0, 0], [1, 3, 0, 0, 0, 1, 0], [1, 3, 0, 0, 0, 2, 0], [1, 3, 0, 0, 1, 0, 0], [1, 3, 0, 0, 1, 1, 0], [1, 3, 0, 0, 1, 2, 0], [1, 3, 0, 0, 2, 0, 0], [1, 3, 0, 0, 2, 1, 0], [1, 3, 0, 0, 2, 2, 0], [1, 3, 0, 1, 0, 0, 0], [1, 3, 0, 1, 0, 1, 0], [1, 3, 0, 1, 0, 2, 1], [1, 3, 0, 1, 1, 0, 0], [1, 3, 0, 1, 1, 1, 0], [1, 3, 0, 1, 1, 2, 1], [1, 3, 0, 1, 2, 0, 0], [1, 3, 0, 1, 2, 1, 1], [1, 3, 0, 1, 2, 2, 1], [1, 3, 0, 2, 0, 0, 0], [1, 3, 0, 2, 0, 1, 0], [1, 3, 0, 2, 0, 2, 0], [1, 3, 0, 2, 1, 0, 0], [1, 3, 0, 2, 1, 1, 0], [1, 3, 0, 2, 1, 2, 1], [1, 3, 0, 2, 2, 0, 0], [1, 3, 0, 2, 2, 1, 1], [1, 3, 0, 2, 2, 2, 1], [1, 3, 1, 0, 0, 0, 0], [1, 3, 1, 0, 0, 1, 0], [1, 3, 1, 0, 0, 2, 0], [1, 3, 1, 0, 1, 0, 0], [1, 3, 1, 0, 1, 1, 0], [1, 3, 1, 0, 1, 2, 0], [1, 3, 1, 0, 2, 0, 0], [1, 3, 1, 0, 2, 1, 0], [1, 3, 1, 0, 2, 2, 0], [1, 3, 1, 1, 0, 0, 0], [1, 3, 1, 1, 0, 1, 0], [1, 3, 1, 1, 0, 2, 1], [1, 3, 1, 1, 1, 0, 0], [1, 3, 1, 1, 1, 1, 0], [1, 3, 1, 1, 1, 2, 1], [1, 3, 1, 1, 2, 0, 0], [1, 3, 1, 1, 2, 1, 1], [1, 3, 1, 1, 2, 2, 1], [1, 3, 1, 2, 0, 0, 0], [1, 3, 1, 2, 0, 1, 0], [1, 3, 1, 2, 0, 2, 1], [1, 3, 1, 2, 1, 0, 0], [1, 3, 1, 2, 1, 1, 1], [1, 3, 1, 2, 1, 2, 1], [1, 3, 1, 2, 2, 0, 0], [1, 3, 1, 2, 2, 1, 1], [1, 3, 1, 2, 2, 2, 1], [1, 3, 2, 0, 0, 0, 0], [1, 3, 2, 0, 0, 1, 0], [1, 3, 2, 0, 0, 2, 0], [1, 3, 2, 0, 1, 0, 0], [1, 3, 2, 0, 1, 1, 0], [1, 3, 2, 0, 1, 2, 0], [1, 3, 2, 0, 2, 0, 0], [1, 3, 2, 0, 2, 1, 0], [1, 3, 2, 0, 2, 2, 0], [1, 3, 2, 1, 0, 0, 0], [1, 3, 2, 1, 0, 1, 0], [1, 3, 2, 1, 0, 2, 1], [1, 3, 2, 1, 1, 0, 0], [1, 3, 2, 1, 1, 1, 1], [1, 3, 2, 1, 1, 2, 1], [1, 3, 2, 1, 2, 0, 0], [1, 3, 2, 1, 2, 1, 1], [1, 3, 2, 1, 2, 2, 1], [1, 3, 2, 2, 0, 0, 0], [1, 3, 2, 2, 0, 1, 0], [1, 3, 2, 2, 0, 2, 1], [1, 3, 2, 2, 1, 0, 0], [1, 3, 2, 2, 1, 1, 1], [1, 3, 2, 2, 1, 2, 1], [1, 3, 2, 2, 2, 0, 0], [1, 3, 2, 2, 2, 1, 1], [1, 3, 2, 2, 2, 2, 1], [1, 3, 3, 0, 0, 0, 0], [1, 3, 3, 0, 0, 1, 0], [1, 3, 3, 0, 0, 2, 0], [1, 3, 3, 0, 1, 0, 0], [1, 3, 3, 0, 1, 1, 0], [1, 3, 3, 0, 1, 2, 0], [1, 3, 3, 0, 2, 0, 0], [1, 3, 3, 0, 2, 1, 0], [1, 3, 3, 0, 2, 2, 0], [1, 3, 3, 1, 0, 0, 0], [1, 3, 3, 1, 0, 1, 0], [1, 3, 3, 1, 0, 2, 1], [1, 3, 3, 1, 1, 0, 0], [1, 3, 3, 1, 1, 1, 1], [1, 3, 3, 1, 1, 2, 1], [1, 3, 3, 1, 2, 0, 0], [1, 3, 3, 1, 2, 1, 1], [1, 3, 3, 1, 2, 2, 1], [1, 3, 3, 2, 0, 0, 0], [1, 3, 3, 2, 0, 1, 0], [1, 3, 3, 2, 0, 2, 1], [1, 3, 3, 2, 1, 0, 0], [1, 3, 3, 2, 1, 1, 1], [1, 3, 3, 2, 1, 2, 1], [1, 3, 3, 2, 2, 0, 0], [1, 3, 3, 2, 2, 1, 1], [1, 3, 3, 2, 2, 2, 1], [1, 2, 0, 0, 0, 0, 0], [1, 2, 0, 0, 0, 1, 0], [1, 2, 0, 0, 0, 2, 0], [1, 2, 0, 0, 1, 0, 0], [1, 2, 0, 0, 1, 1, 0], [1, 2, 0, 0, 1, 2, 0], [1, 2, 0, 0, 2, 0, 0], [1, 2, 0, 0, 2, 1, 0], [1, 2, 0, 0, 2, 2, 0], [1, 2, 0, 1, 0, 0, 0], [1, 2, 0, 1, 0, 1, 0], [1, 2, 0, 1, 0, 2, 1], [1, 2, 0, 1, 1, 0, 0], [1, 2, 0, 1, 1, 1, 0], [1, 2, 0, 1, 1, 2, 1], [1, 2, 0, 1, 2, 0, 0], [1, 2, 0, 1, 2, 1, 1], [1, 2, 0, 1, 2, 2, 1], [1, 2, 0, 2, 0, 0, 0], [1, 2, 0, 2, 0, 1, 0], [1, 2, 0, 2, 0, 2, 0], [1, 2, 0, 2, 1, 0, 0], [1, 2, 0, 2, 1, 1, 0], [1, 2, 0, 2, 1, 2, 1], [1, 2, 0, 2, 2, 0, 0], [1, 2, 0, 2, 2, 1, 1], [1, 2, 0, 2, 2, 2, 1], [1, 2, 1, 0, 0, 0, 0], [1, 2, 1, 0, 0, 1, 0], [1, 2, 1, 0, 0, 2, 0], [1, 2, 1, 0, 1, 0, 0], [1, 2, 1, 0, 1, 1, 0], [1, 2, 1, 0, 1, 2, 0], [1, 2, 1, 0, 2, 0, 0], [1, 2, 1, 0, 2, 1, 0], [1, 2, 1, 0, 2, 2, 0], [1, 2, 1, 1, 0, 0, 0], [1, 2, 1, 1, 0, 1, 0], [1, 2, 1, 1, 0, 2, 1], [1, 2, 1, 1, 1, 0, 0], [1, 2, 1, 1, 1, 1, 0], [1, 2, 1, 1, 1, 2, 1], [1, 2, 1, 1, 2, 0, 0], [1, 2, 1, 1, 2, 1, 1], [1, 2, 1, 1, 2, 2, 1], [1, 2, 1, 2, 0, 0, 0], [1, 2, 1, 2, 0, 1, 0], [1, 2, 1, 2, 0, 2, 1], [1, 2, 1, 2, 1, 0, 0], [1, 2, 1, 2, 1, 1, 1], [1, 2, 1, 2, 1, 2, 1], [1, 2, 1, 2, 2, 0, 0], [1, 2, 1, 2, 2, 1, 1], [1, 2, 1, 2, 2, 2, 1], [1, 2, 2, 0, 0, 0, 0], [1, 2, 2, 0, 0, 1, 0], [1, 2, 2, 0, 0, 2, 0], [1, 2, 2, 0, 1, 0, 0], [1, 2, 2, 0, 1, 1, 0], [1, 2, 2, 0, 1, 2, 0], [1, 2, 2, 0, 2, 0, 0], [1, 2, 2, 0, 2, 1, 0], [1, 2, 2, 0, 2, 2, 0], [1, 2, 2, 1, 0, 0, 0], [1, 2, 2, 1, 0, 1, 0], [1, 2, 2, 1, 0, 2, 1], [1, 2, 2, 1, 1, 0, 0], [1, 2, 2, 1, 1, 1, 1], [1, 2, 2, 1, 1, 2, 1], [1, 2, 2, 1, 2, 0, 0], [1, 2, 2, 1, 2, 1, 1], [1, 2, 2, 1, 2, 2, 1], [1, 2, 2, 2, 0, 0, 0], [1, 2, 2, 2, 0, 1, 0], [1, 2, 2, 2, 0, 2, 1], [1, 2, 2, 2, 1, 0, 0], [1, 2, 2, 2, 1, 1, 1], [1, 2, 2, 2, 1, 2, 1], [1, 2, 2, 2, 2, 0, 0], [1, 2, 2, 2, 2, 1, 1], [1, 2, 2, 2, 2, 2, 1], [1, 2, 3, 0, 0, 0, 0], [1, 2, 3, 0, 0, 1, 0], [1, 2, 3, 0, 0, 2, 0], [1, 2, 3, 0, 1, 0, 0], [1, 2, 3, 0, 1, 1, 0], [1, 2, 3, 0, 1, 2, 0], [1, 2, 3, 0, 2, 0, 0], [1, 2, 3, 0, 2, 1, 0], [1, 2, 3, 0, 2, 2, 0], [1, 2, 3, 1, 0, 0, 0], [1, 2, 3, 1, 0, 1, 0], [1, 2, 3, 1, 0, 2, 1], [1, 2, 3, 1, 1, 0, 0], [1, 2, 3, 1, 1, 1, 1], [1, 2, 3, 1, 1, 2, 1], [1, 2, 3, 1, 2, 0, 0], [1, 2, 3, 1, 2, 1, 1], [1, 2, 3, 1, 2, 2, 1], [1, 2, 3, 2, 0, 0, 0], [1, 2, 3, 2, 0, 1, 0], [1, 2, 3, 2, 0, 2, 1], [1, 2, 3, 2, 1, 0, 0], [1, 2, 3, 2, 1, 1, 1], [1, 2, 3, 2, 1, 2, 1], [1, 2, 3, 2, 2, 0, 0], [1, 2, 3, 2, 2, 1, 1], [1, 2, 3, 2, 2, 2, 1], [1, 1, 0, 0, 0, 0, 0], [1, 1, 0, 0, 0, 1, 0], [1, 1, 0, 0, 0, 2, 0], [1, 1, 0, 0, 1, 0, 0], [1, 1, 0, 0, 1, 1, 0], [1, 1, 0, 0, 1, 2, 0], [1, 1, 0, 0, 2, 0, 0], [1, 1, 0, 0, 2, 1, 0], [1, 1, 0, 0, 2, 2, 0], [1, 1, 0, 1, 0, 0, 0], [1, 1, 0, 1, 0, 1, 1], [1, 1, 0, 1, 0, 2, 1], [1, 1, 0, 1, 1, 0, 0], [1, 1, 0, 1, 1, 1, 1], [1, 1, 0, 1, 1, 2, 1], [1, 1, 0, 1, 2, 0, 0], [1, 1, 0, 1, 2, 1, 1], [1, 1, 0, 1, 2, 2, 3], [1, 1, 0, 2, 0, 0, 0], [1, 1, 0, 2, 0, 1, 0], [1, 1, 0, 2, 0, 2, 0], [1, 1, 0, 2, 1, 0, 0], [1, 1, 0, 2, 1, 1, 1], [1, 1, 0, 2, 1, 2, 1], [1, 1, 0, 2, 2, 0, 0], [1, 1, 0, 2, 2, 1, 1], [1, 1, 0, 2, 2, 2, 3], [1, 1, 1, 0, 0, 0, 0], [1, 1, 1, 0, 0, 1, 0], [1, 1, 1, 0, 0, 2, 0], [1, 1, 1, 0, 1, 0, 0], [1, 1, 1, 0, 1, 1, 0], [1, 1, 1, 0, 1, 2, 0], [1, 1, 1, 0, 2, 0, 0], [1, 1, 1, 0, 2, 1, 0], [1, 1, 1, 0, 2, 2, 0], [1, 1, 1, 1, 0, 0, 0], [1, 1, 1, 1, 0, 1, 1], [1, 1, 1, 1, 0, 2, 1], [1, 1, 1, 1, 1, 0, 0], [1, 1, 1, 1, 1, 1, 1], [1, 1, 1, 1, 1, 2, 1], [1, 1, 1, 1, 2, 0, 0], [1, 1, 1, 1, 2, 1, 1], [1, 1, 1, 1, 2, 2, 3], [1, 1, 1, 2, 0, 0, 0], [1, 1, 1, 2, 0, 1, 1], [1, 1, 1, 2, 0, 2, 1], [1, 1, 1, 2, 1, 0, 0], [1, 1, 1, 2, 1, 1, 1], [1, 1, 1, 2, 1, 2, 3], [1, 1, 1, 2, 2, 0, 0], [1, 1, 1, 2, 2, 1, 1], [1, 1, 1, 2, 2, 2, 3], [1, 1, 2, 0, 0, 0, 0], [1, 1, 2, 0, 0, 1, 0], [1, 1, 2, 0, 0, 2, 0], [1, 1, 2, 0, 1, 0, 0], [1, 1, 2, 0, 1, 1, 0], [1, 1, 2, 0, 1, 2, 0], [1, 1, 2, 0, 2, 0, 0], [1, 1, 2, 0, 2, 1, 0], [1, 1, 2, 0, 2, 2, 0], [1, 1, 2, 1, 0, 0, 0], [1, 1, 2, 1, 0, 1, 1], [1, 1, 2, 1, 0, 2, 1], [1, 1, 2, 1, 1, 0, 0], [1, 1, 2, 1, 1, 1, 1], [1, 1, 2, 1, 1, 2, 3], [1, 1, 2, 1, 2, 0, 0], [1, 1, 2, 1, 2, 1, 1], [1, 1, 2, 1, 2, 2, 3], [1, 1, 2, 2, 0, 0, 0], [1, 1, 2, 2, 0, 1, 1], [1, 1, 2, 2, 0, 2, 1], [1, 1, 2, 2, 1, 0, 0], [1, 1, 2, 2, 1, 1, 1], [1, 1, 2, 2, 1, 2, 3], [1, 1, 2, 2, 2, 0, 0], [1, 1, 2, 2, 2, 1, 1], [1, 1, 2, 2, 2, 2, 3], [1, 1, 3, 0, 0, 0, 0], [1, 1, 3, 0, 0, 1, 0], [1, 1, 3, 0, 0, 2, 0], [1, 1, 3, 0, 1, 0, 0], [1, 1, 3, 0, 1, 1, 0], [1, 1, 3, 0, 1, 2, 0], [1, 1, 3, 0, 2, 0, 0], [1, 1, 3, 0, 2, 1, 0], [1, 1, 3, 0, 2, 2, 0], [1, 1, 3, 1, 0, 0, 0], [1, 1, 3, 1, 0, 1, 1], [1, 1, 3, 1, 0, 2, 1], [1, 1, 3, 1, 1, 0, 0], [1, 1, 3, 1, 1, 1, 1], [1, 1, 3, 1, 1, 2, 3], [1, 1, 3, 1, 2, 0, 0], [1, 1, 3, 1, 2, 1, 1], [1, 1, 3, 1, 2, 2, 3], [1, 1, 3, 2, 0, 0, 0], [1, 1, 3, 2, 0, 1, 1], [1, 1, 3, 2, 0, 2, 1], [1, 1, 3, 2, 1, 0, 0], [1, 1, 3, 2, 1, 1, 1], [1, 1, 3, 2, 1, 2, 3], [1, 1, 3, 2, 2, 0, 0], [1, 1, 3, 2, 2, 1, 1], [1, 1, 3, 2, 2, 2, 3], [1, 0, 0, 0, 0, 0, 0], [1, 0, 0, 0, 0, 1, 0], [1, 0, 0, 0, 0, 2, 0], [1, 0, 0, 0, 1, 0, 0], [1, 0, 0, 0, 1, 1, 0], [1, 0, 0, 0, 1, 2, 0], [1, 0, 0, 0, 2, 0, 0], [1, 0, 0, 0, 2, 1, 0], [1, 0, 0, 0, 2, 2, 0], [1, 0, 0, 1, 0, 0, 0], [1, 0, 0, 1, 0, 1, 1], [1, 0, 0, 1, 0, 2, 2], [1, 0, 0, 1, 1, 0, 0], [1, 0, 0, 1, 1, 1, 1], [1, 0, 0, 1, 1, 2, 2], [1, 0, 0, 1, 2, 0, 0], [1, 0, 0, 1, 2, 1, 2], [1, 0, 0, 1, 2, 2, 3], [1, 0, 0, 2, 0, 0, 0], [1, 0, 0, 2, 0, 1, 0], [1, 0, 0, 2, 0, 2, 0], [1, 0, 0, 2, 1, 0, 0], [1, 0, 0, 2, 1, 1, 1], [1, 0, 0, 2, 1, 2, 2], [1, 0, 0, 2, 2, 0, 0], [1, 0, 0, 2, 2, 1, 2], [1, 0, 0, 2, 2, 2, 3], [1, 0, 1, 0, 0, 0, 0], [1, 0, 1, 0, 0, 1, 0], [1, 0, 1, 0, 0, 2, 0], [1, 0, 1, 0, 1, 0, 0], [1, 0, 1, 0, 1, 1, 0], [1, 0, 1, 0, 1, 2, 0], [1, 0, 1, 0, 2, 0, 0], [1, 0, 1, 0, 2, 1, 0], [1, 0, 1, 0, 2, 2, 0], [1, 0, 1, 1, 0, 0, 0], [1, 0, 1, 1, 0, 1, 1], [1, 0, 1, 1, 0, 2, 2], [1, 0, 1, 1, 1, 0, 0], [1, 0, 1, 1, 1, 1, 1], [1, 0, 1, 1, 1, 2, 2], [1, 0, 1, 1, 2, 0, 0], [1, 0, 1, 1, 2, 1, 2], [1, 0, 1, 1, 2, 2, 3], [1, 0, 1, 2, 0, 0, 0], [1, 0, 1, 2, 0, 1, 1], [1, 0, 1, 2, 0, 2, 2], [1, 0, 1, 2, 1, 0, 0], [1, 0, 1, 2, 1, 1, 2], [1, 0, 1, 2, 1, 2, 3], [1, 0, 1, 2, 2, 0, 0], [1, 0, 1, 2, 2, 1, 2], [1, 0, 1, 2, 2, 2, 3], [1, 0, 2, 0, 0, 0, 0], [1, 0, 2, 0, 0, 1, 0], [1, 0, 2, 0, 0, 2, 0], [1, 0, 2, 0, 1, 0, 0], [1, 0, 2, 0, 1, 1, 0], [1, 0, 2, 0, 1, 2, 0], [1, 0, 2, 0, 2, 0, 0], [1, 0, 2, 0, 2, 1, 0], [1, 0, 2, 0, 2, 2, 0], [1, 0, 2, 1, 0, 0, 0], [1, 0, 2, 1, 0, 1, 1], [1, 0, 2, 1, 0, 2, 2], [1, 0, 2, 1, 1, 0, 0], [1, 0, 2, 1, 1, 1, 2], [1, 0, 2, 1, 1, 2, 3], [1, 0, 2, 1, 2, 0, 0], [1, 0, 2, 1, 2, 1, 2], [1, 0, 2, 1, 2, 2, 3], [1, 0, 2, 2, 0, 0, 0], [1, 0, 2, 2, 0, 1, 1], [1, 0, 2, 2, 0, 2, 2], [1, 0, 2, 2, 1, 0, 0], [1, 0, 2, 2, 1, 1, 2], [1, 0, 2, 2, 1, 2, 3], [1, 0, 2, 2, 2, 0, 0], [1, 0, 2, 2, 2, 1, 2], [1, 0, 2, 2, 2, 2, 3], [1, 0, 3, 0, 0, 0, 0], [1, 0, 3, 0, 0, 1, 0], [1, 0, 3, 0, 0, 2, 0], [1, 0, 3, 0, 1, 0, 0], [1, 0, 3, 0, 1, 1, 0], [1, 0, 3, 0, 1, 2, 0], [1, 0, 3, 0, 2, 0, 0], [1, 0, 3, 0, 2, 1, 0], [1, 0, 3, 0, 2, 2, 0], [1, 0, 3, 1, 0, 0, 0], [1, 0, 3, 1, 0, 1, 1], [1, 0, 3, 1, 0, 2, 2], [1, 0, 3, 1, 1, 0, 0], [1, 0, 3, 1, 1, 1, 2], [1, 0, 3, 1, 1, 2, 3], [1, 0, 3, 1, 2, 0, 0], [1, 0, 3, 1, 2, 1, 2], [1, 0, 3, 1, 2, 2, 3], [1, 0, 3, 2, 0, 0, 0], [1, 0, 3, 2, 0, 1, 1], [1, 0, 3, 2, 0, 2, 2], [1, 0, 3, 2, 1, 0, 0], [1, 0, 3, 2, 1, 1, 2], [1, 0, 3, 2, 1, 2, 3], [1, 0, 3, 2, 2, 0, 0], [1, 0, 3, 2, 2, 1, 2], [1, 0, 3, 2, 2, 2, 3], [0, 3, 0, 0, 0, 0, 0], [0, 3, 0, 0, 0, 1, 0], [0, 3, 0, 0, 0, 2, 0], [0, 3, 0, 0, 1, 0, 0], [0, 3, 0, 0, 1, 1, 0], [0, 3, 0, 0, 1, 2, 0], [0, 3, 0, 0, 2, 0, 0], [0, 3, 0, 0, 2, 1, 0], [0, 3, 0, 0, 2, 2, 0], [0, 3, 0, 1, 0, 0, 0], [0, 3, 0, 1, 0, 1, 0], [0, 3, 0, 1, 0, 2, 1], [0, 3, 0, 1, 1, 0, 0], [0, 3, 0, 1, 1, 1, 0], [0, 3, 0, 1, 1, 2, 1], [0, 3, 0, 1, 2, 0, 0], [0, 3, 0, 1, 2, 1, 1], [0, 3, 0, 1, 2, 2, 1], [0, 3, 0, 2, 0, 0, 0], [0, 3, 0, 2, 0, 1, 0], [0, 3, 0, 2, 0, 2, 0], [0, 3, 0, 2, 1, 0, 0], [0, 3, 0, 2, 1, 1, 0], [0, 3, 0, 2, 1, 2, 1], [0, 3, 0, 2, 2, 0, 0], [0, 3, 0, 2, 2, 1, 1], [0, 3, 0, 2, 2, 2, 1], [0, 3, 1, 0, 0, 0, 0], [0, 3, 1, 0, 0, 1, 0], [0, 3, 1, 0, 0, 2, 0], [0, 3, 1, 0, 1, 0, 0], [0, 3, 1, 0, 1, 1, 0], [0, 3, 1, 0, 1, 2, 0], [0, 3, 1, 0, 2, 0, 0], [0, 3, 1, 0, 2, 1, 0], [0, 3, 1, 0, 2, 2, 0], [0, 3, 1, 1, 0, 0, 0], [0, 3, 1, 1, 0, 1, 0], [0, 3, 1, 1, 0, 2, 1], [0, 3, 1, 1, 1, 0, 0], [0, 3, 1, 1, 1, 1, 0], [0, 3, 1, 1, 1, 2, 1], [0, 3, 1, 1, 2, 0, 0], [0, 3, 1, 1, 2, 1, 1], [0, 3, 1, 1, 2, 2, 1], [0, 3, 1, 2, 0, 0, 0], [0, 3, 1, 2, 0, 1, 0], [0, 3, 1, 2, 0, 2, 1], [0, 3, 1, 2, 1, 0, 0], [0, 3, 1, 2, 1, 1, 1], [0, 3, 1, 2, 1, 2, 1], [0, 3, 1, 2, 2, 0, 0], [0, 3, 1, 2, 2, 1, 1], [0, 3, 1, 2, 2, 2, 1], [0, 3, 2, 0, 0, 0, 0], [0, 3, 2, 0, 0, 1, 0], [0, 3, 2, 0, 0, 2, 0], [0, 3, 2, 0, 1, 0, 0], [0, 3, 2, 0, 1, 1, 0], [0, 3, 2, 0, 1, 2, 0], [0, 3, 2, 0, 2, 0, 0], [0, 3, 2, 0, 2, 1, 0], [0, 3, 2, 0, 2, 2, 0], [0, 3, 2, 1, 0, 0, 0], [0, 3, 2, 1, 0, 1, 0], [0, 3, 2, 1, 0, 2, 1], [0, 3, 2, 1, 1, 0, 0], [0, 3, 2, 1, 1, 1, 1], [0, 3, 2, 1, 1, 2, 1], [0, 3, 2, 1, 2, 0, 0], [0, 3, 2, 1, 2, 1, 1], [0, 3, 2, 1, 2, 2, 1], [0, 3, 2, 2, 0, 0, 0], [0, 3, 2, 2, 0, 1, 0], [0, 3, 2, 2, 0, 2, 1], [0, 3, 2, 2, 1, 0, 0], [0, 3, 2, 2, 1, 1, 1], [0, 3, 2, 2, 1, 2, 1], [0, 3, 2, 2, 2, 0, 0], [0, 3, 2, 2, 2, 1, 1], [0, 3, 2, 2, 2, 2, 1], [0, 3, 3, 0, 0, 0, 0], [0, 3, 3, 0, 0, 1, 0], [0, 3, 3, 0, 0, 2, 0], [0, 3, 3, 0, 1, 0, 0], [0, 3, 3, 0, 1, 1, 0], [0, 3, 3, 0, 1, 2, 0], [0, 3, 3, 0, 2, 0, 0], [0, 3, 3, 0, 2, 1, 0], [0, 3, 3, 0, 2, 2, 0], [0, 3, 3, 1, 0, 0, 0], [0, 3, 3, 1, 0, 1, 0], [0, 3, 3, 1, 0, 2, 1], [0, 3, 3, 1, 1, 0, 0], [0, 3, 3, 1, 1, 1, 1], [0, 3, 3, 1, 1, 2, 1], [0, 3, 3, 1, 2, 0, 0], [0, 3, 3, 1, 2, 1, 1], [0, 3, 3, 1, 2, 2, 1], [0, 3, 3, 2, 0, 0, 0], [0, 3, 3, 2, 0, 1, 0], [0, 3, 3, 2, 0, 2, 1], [0, 3, 3, 2, 1, 0, 0], [0, 3, 3, 2, 1, 1, 1], [0, 3, 3, 2, 1, 2, 1], [0, 3, 3, 2, 2, 0, 0], [0, 3, 3, 2, 2, 1, 1], [0, 3, 3, 2, 2, 2, 1], [0, 2, 0, 0, 0, 0, 0], [0, 2, 0, 0, 0, 1, 0], [0, 2, 0, 0, 0, 2, 0], [0, 2, 0, 0, 1, 0, 0], [0, 2, 0, 0, 1, 1, 0], [0, 2, 0, 0, 1, 2, 0], [0, 2, 0, 0, 2, 0, 0], [0, 2, 0, 0, 2, 1, 0], [0, 2, 0, 0, 2, 2, 0], [0, 2, 0, 1, 0, 0, 0], [0, 2, 0, 1, 0, 1, 1], [0, 2, 0, 1, 0, 2, 1], [0, 2, 0, 1, 1, 0, 0], [0, 2, 0, 1, 1, 1, 1], [0, 2, 0, 1, 1, 2, 1], [0, 2, 0, 1, 2, 0, 0], [0, 2, 0, 1, 2, 1, 1], [0, 2, 0, 1, 2, 2, 3], [0, 2, 0, 2, 0, 0, 0], [0, 2, 0, 2, 0, 1, 0], [0, 2, 0, 2, 0, 2, 0], [0, 2, 0, 2, 1, 0, 0], [0, 2, 0, 2, 1, 1, 1], [0, 2, 0, 2, 1, 2, 1], [0, 2, 0, 2, 2, 0, 0], [0, 2, 0, 2, 2, 1, 1], [0, 2, 0, 2, 2, 2, 3], [0, 2, 1, 0, 0, 0, 0], [0, 2, 1, 0, 0, 1, 0], [0, 2, 1, 0, 0, 2, 0], [0, 2, 1, 0, 1, 0, 0], [0, 2, 1, 0, 1, 1, 0], [0, 2, 1, 0, 1, 2, 0], [0, 2, 1, 0, 2, 0, 0], [0, 2, 1, 0, 2, 1, 0], [0, 2, 1, 0, 2, 2, 0], [0, 2, 1, 1, 0, 0, 0], [0, 2, 1, 1, 0, 1, 1], [0, 2, 1, 1, 0, 2, 1], [0, 2, 1, 1, 1, 0, 0], [0, 2, 1, 1, 1, 1, 1], [0, 2, 1, 1, 1, 2, 1], [0, 2, 1, 1, 2, 0, 0], [0, 2, 1, 1, 2, 1, 1], [0, 2, 1, 1, 2, 2, 3], [0, 2, 1, 2, 0, 0, 0], [0, 2, 1, 2, 0, 1, 1], [0, 2, 1, 2, 0, 2, 1], [0, 2, 1, 2, 1, 0, 0], [0, 2, 1, 2, 1, 1, 1], [0, 2, 1, 2, 1, 2, 3], [0, 2, 1, 2, 2, 0, 0], [0, 2, 1, 2, 2, 1, 1], [0, 2, 1, 2, 2, 2, 3], [0, 2, 2, 0, 0, 0, 0], [0, 2, 2, 0, 0, 1, 0], [0, 2, 2, 0, 0, 2, 0], [0, 2, 2, 0, 1, 0, 0], [0, 2, 2, 0, 1, 1, 0], [0, 2, 2, 0, 1, 2, 0], [0, 2, 2, 0, 2, 0, 0], [0, 2, 2, 0, 2, 1, 0], [0, 2, 2, 0, 2, 2, 0], [0, 2, 2, 1, 0, 0, 0], [0, 2, 2, 1, 0, 1, 1], [0, 2, 2, 1, 0, 2, 1], [0, 2, 2, 1, 1, 0, 0], [0, 2, 2, 1, 1, 1, 1], [0, 2, 2, 1, 1, 2, 3], [0, 2, 2, 1, 2, 0, 0], [0, 2, 2, 1, 2, 1, 1], [0, 2, 2, 1, 2, 2, 3], [0, 2, 2, 2, 0, 0, 0], [0, 2, 2, 2, 0, 1, 1], [0, 2, 2, 2, 0, 2, 1], [0, 2, 2, 2, 1, 0, 0], [0, 2, 2, 2, 1, 1, 1], [0, 2, 2, 2, 1, 2, 3], [0, 2, 2, 2, 2, 0, 0], [0, 2, 2, 2, 2, 1, 1], [0, 2, 2, 2, 2, 2, 3], [0, 2, 3, 0, 0, 0, 0], [0, 2, 3, 0, 0, 1, 0], [0, 2, 3, 0, 0, 2, 0], [0, 2, 3, 0, 1, 0, 0], [0, 2, 3, 0, 1, 1, 0], [0, 2, 3, 0, 1, 2, 0], [0, 2, 3, 0, 2, 0, 0], [0, 2, 3, 0, 2, 1, 0], [0, 2, 3, 0, 2, 2, 0], [0, 2, 3, 1, 0, 0, 0], [0, 2, 3, 1, 0, 1, 1], [0, 2, 3, 1, 0, 2, 1], [0, 2, 3, 1, 1, 0, 0], [0, 2, 3, 1, 1, 1, 1], [0, 2, 3, 1, 1, 2, 3], [0, 2, 3, 1, 2, 0, 0], [0, 2, 3, 1, 2, 1, 1], [0, 2, 3, 1, 2, 2, 3], [0, 2, 3, 2, 0, 0, 0], [0, 2, 3, 2, 0, 1, 1], [0, 2, 3, 2, 0, 2, 1], [0, 2, 3, 2, 1, 0, 0], [0, 2, 3, 2, 1, 1, 1], [0, 2, 3, 2, 1, 2, 3], [0, 2, 3, 2, 2, 0, 0], [0, 2, 3, 2, 2, 1, 1], [0, 2, 3, 2, 2, 2, 3], [0, 1, 0, 0, 0, 0, 0], [0, 1, 0, 0, 0, 1, 0], [0, 1, 0, 0, 0, 2, 0], [0, 1, 0, 0, 1, 0, 0], [0, 1, 0, 0, 1, 1, 0], [0, 1, 0, 0, 1, 2, 0], [0, 1, 0, 0, 2, 0, 0], [0, 1, 0, 0, 2, 1, 0], [0, 1, 0, 0, 2, 2, 0], [0, 1, 0, 1, 0, 0, 0], [0, 1, 0, 1, 0, 1, 1], [0, 1, 0, 1, 0, 2, 2], [0, 1, 0, 1, 1, 0, 0], [0, 1, 0, 1, 1, 1, 1], [0, 1, 0, 1, 1, 2, 2], [0, 1, 0, 1, 2, 0, 0], [0, 1, 0, 1, 2, 1, 2], [0, 1, 0, 1, 2, 2, 3], [0, 1, 0, 2, 0, 0, 0], [0, 1, 0, 2, 0, 1, 0], [0, 1, 0, 2, 0, 2, 0], [0, 1, 0, 2, 1, 0, 0], [0, 1, 0, 2, 1, 1, 1], [0, 1, 0, 2, 1, 2, 2], [0, 1, 0, 2, 2, 0, 0], [0, 1, 0, 2, 2, 1, 2], [0, 1, 0, 2, 2, 2, 3], [0, 1, 1, 0, 0, 0, 0], [0, 1, 1, 0, 0, 1, 0], [0, 1, 1, 0, 0, 2, 0], [0, 1, 1, 0, 1, 0, 0], [0, 1, 1, 0, 1, 1, 0], [0, 1, 1, 0, 1, 2, 0], [0, 1, 1, 0, 2, 0, 0], [0, 1, 1, 0, 2, 1, 0], [0, 1, 1, 0, 2, 2, 0], [0, 1, 1, 1, 0, 0, 0], [0, 1, 1, 1, 0, 1, 1], [0, 1, 1, 1, 0, 2, 2], [0, 1, 1, 1, 1, 0, 0], [0, 1, 1, 1, 1, 1, 1], [0, 1, 1, 1, 1, 2, 2], [0, 1, 1, 1, 2, 0, 0], [0, 1, 1, 1, 2, 1, 2], [0, 1, 1, 1, 2, 2, 3], [0, 1, 1, 2, 0, 0, 0], [0, 1, 1, 2, 0, 1, 1], [0, 1, 1, 2, 0, 2, 2], [0, 1, 1, 2, 1, 0, 0], [0, 1, 1, 2, 1, 1, 2], [0, 1, 1, 2, 1, 2, 3], [0, 1, 1, 2, 2, 0, 0], [0, 1, 1, 2, 2, 1, 2], [0, 1, 1, 2, 2, 2, 3], [0, 1, 2, 0, 0, 0, 0], [0, 1, 2, 0, 0, 1, 0], [0, 1, 2, 0, 0, 2, 0], [0, 1, 2, 0, 1, 0, 0], [0, 1, 2, 0, 1, 1, 0], [0, 1, 2, 0, 1, 2, 0], [0, 1, 2, 0, 2, 0, 0], [0, 1, 2, 0, 2, 1, 0], [0, 1, 2, 0, 2, 2, 0], [0, 1, 2, 1, 0, 0, 0], [0, 1, 2, 1, 0, 1, 1], [0, 1, 2, 1, 0, 2, 2], [0, 1, 2, 1, 1, 0, 0], [0, 1, 2, 1, 1, 1, 2], [0, 1, 2, 1, 1, 2, 3], [0, 1, 2, 1, 2, 0, 0], [0, 1, 2, 1, 2, 1, 2], [0, 1, 2, 1, 2, 2, 3], [0, 1, 2, 2, 0, 0, 0], [0, 1, 2, 2, 0, 1, 1], [0, 1, 2, 2, 0, 2, 2], [0, 1, 2, 2, 1, 0, 0], [0, 1, 2, 2, 1, 1, 2], [0, 1, 2, 2, 1, 2, 3], [0, 1, 2, 2, 2, 0, 0], [0, 1, 2, 2, 2, 1, 2], [0, 1, 2, 2, 2, 2, 3], [0, 1, 3, 0, 0, 0, 0], [0, 1, 3, 0, 0, 1, 0], [0, 1, 3, 0, 0, 2, 0], [0, 1, 3, 0, 1, 0, 0], [0, 1, 3, 0, 1, 1, 0], [0, 1, 3, 0, 1, 2, 0], [0, 1, 3, 0, 2, 0, 0], [0, 1, 3, 0, 2, 1, 0], [0, 1, 3, 0, 2, 2, 0], [0, 1, 3, 1, 0, 0, 0], [0, 1, 3, 1, 0, 1, 1], [0, 1, 3, 1, 0, 2, 2], [0, 1, 3, 1, 1, 0, 0], [0, 1, 3, 1, 1, 1, 2], [0, 1, 3, 1, 1, 2, 3], [0, 1, 3, 1, 2, 0, 0], [0, 1, 3, 1, 2, 1, 2], [0, 1, 3, 1, 2, 2, 3], [0, 1, 3, 2, 0, 0, 0], [0, 1, 3, 2, 0, 1, 1], [0, 1, 3, 2, 0, 2, 2], [0, 1, 3, 2, 1, 0, 0], [0, 1, 3, 2, 1, 1, 2], [0, 1, 3, 2, 1, 2, 3], [0, 1, 3, 2, 2, 0, 0], [0, 1, 3, 2, 2, 1, 2], [0, 1, 3, 2, 2, 2, 3], [0, 0, 0, 0, 0, 0, 0], [0, 0, 0, 0, 0, 1, 0], [0, 0, 0, 0, 0, 2, 0], [0, 0, 0, 0, 1, 0, 0], [0, 0, 0, 0, 1, 1, 0], [0, 0, 0, 0, 1, 2, 0], [0, 0, 0, 0, 2, 0, 0], [0, 0, 0, 0, 2, 1, 0], [0, 0, 0, 0, 2, 2, 0], [0, 0, 0, 1, 0, 0, 0], [0, 0, 0, 1, 0, 1, 1], [0, 0, 0, 1, 0, 2, 2], [0, 0, 0, 1, 1, 0, 0], [0, 0, 0, 1, 1, 1, 1], [0, 0, 0, 1, 1, 2, 2], [0, 0, 0, 1, 2, 0, 0], [0, 0, 0, 1, 2, 1, 2], [0, 0, 0, 1, 2, 2, 3], [0, 0, 0, 2, 0, 0, 0], [0, 0, 0, 2, 0, 1, 0], [0, 0, 0, 2, 0, 2, 0], [0, 0, 0, 2, 1, 0, 0], [0, 0, 0, 2, 1, 1, 1], [0, 0, 0, 2, 1, 2, 2], [0, 0, 0, 2, 2, 0, 0], [0, 0, 0, 2, 2, 1, 2], [0, 0, 0, 2, 2, 2, 3], [0, 0, 1, 0, 0, 0, 0], [0, 0, 1, 0, 0, 1, 0], [0, 0, 1, 0, 0, 2, 0], [0, 0, 1, 0, 1, 0, 0], [0, 0, 1, 0, 1, 1, 0], [0, 0, 1, 0, 1, 2, 0], [0, 0, 1, 0, 2, 0, 0], [0, 0, 1, 0, 2, 1, 0], [0, 0, 1, 0, 2, 2, 0], [0, 0, 1, 1, 0, 0, 0], [0, 0, 1, 1, 0, 1, 1], [0, 0, 1, 1, 0, 2, 2], [0, 0, 1, 1, 1, 0, 0], [0, 0, 1, 1, 1, 1, 1], [0, 0, 1, 1, 1, 2, 2], [0, 0, 1, 1, 2, 0, 0], [0, 0, 1, 1, 2, 1, 2], [0, 0, 1, 1, 2, 2, 3], [0, 0, 1, 2, 0, 0, 0], [0, 0, 1, 2, 0, 1, 1], [0, 0, 1, 2, 0, 2, 2], [0, 0, 1, 2, 1, 0, 0], [0, 0, 1, 2, 1, 1, 2], [0, 0, 1, 2, 1, 2, 3], [0, 0, 1, 2, 2, 0, 0], [0, 0, 1, 2, 2, 1, 2], [0, 0, 1, 2, 2, 2, 3], [0, 0, 2, 0, 0, 0, 0], [0, 0, 2, 0, 0, 1, 0], [0, 0, 2, 0, 0, 2, 0], [0, 0, 2, 0, 1, 0, 0], [0, 0, 2, 0, 1, 1, 0], [0, 0, 2, 0, 1, 2, 0], [0, 0, 2, 0, 2, 0, 0], [0, 0, 2, 0, 2, 1, 0], [0, 0, 2, 0, 2, 2, 0], [0, 0, 2, 1, 0, 0, 0], [0, 0, 2, 1, 0, 1, 1], [0, 0, 2, 1, 0, 2, 2], [0, 0, 2, 1, 1, 0, 0], [0, 0, 2, 1, 1, 1, 2], [0, 0, 2, 1, 1, 2, 3], [0, 0, 2, 1, 2, 0, 0], [0, 0, 2, 1, 2, 1, 2], [0, 0, 2, 1, 2, 2, 3], [0, 0, 2, 2, 0, 0, 0], [0, 0, 2, 2, 0, 1, 1], [0, 0, 2, 2, 0, 2, 2], [0, 0, 2, 2, 1, 0, 0], [0, 0, 2, 2, 1, 1, 2], [0, 0, 2, 2, 1, 2, 3], [0, 0, 2, 2, 2, 0, 0], [0, 0, 2, 2, 2, 1, 2], [0, 0, 2, 2, 2, 2, 3], [0, 0, 3, 0, 0, 0, 0], [0, 0, 3, 0, 0, 1, 0], [0, 0, 3, 0, 0, 2, 0], [0, 0, 3, 0, 1, 0, 0], [0, 0, 3, 0, 1, 1, 0], [0, 0, 3, 0, 1, 2, 0], [0, 0, 3, 0, 2, 0, 0], [0, 0, 3, 0, 2, 1, 0], [0, 0, 3, 0, 2, 2, 0], [0, 0, 3, 1, 0, 0, 0], [0, 0, 3, 1, 0, 1, 1], [0, 0, 3, 1, 0, 2, 2], [0, 0, 3, 1, 1, 0, 0], [0, 0, 3, 1, 1, 1, 2], [0, 0, 3, 1, 1, 2, 3], [0, 0, 3, 1, 2, 0, 0], [0, 0, 3, 1, 2, 1, 2], [0, 0, 3, 1, 2, 2, 3], [0, 0, 3, 2, 0, 0, 0], [0, 0, 3, 2, 0, 1, 1], [0, 0, 3, 2, 0, 2, 2], [0, 0, 3, 2, 1, 0, 0], [0, 0, 3, 2, 1, 1, 2], [0, 0, 3, 2, 1, 2, 3], [0, 0, 3, 2, 2, 0, 0], [0, 0, 3, 2, 2, 1, 2], [0, 0, 3, 2, 2, 2, 3]]\n"
          ]
        }
      ]
    },
    {
      "cell_type": "code",
      "source": [
        "#for breast cancer dataset\n",
        "#Converting strings to integers\n",
        "\n",
        "age = dict([('10-19', 0), ('20-29', 1), ('30-39', 2), ('40-49', 3), ('50-59', 4), ('60-69', 5), ('70-79', 6), ('80-89', 7), ('90-99', 8)])\n",
        "menopause = dict([('lt40', 0), ('ge40', 1), ('premeno', 2)])\n",
        "tumor = dict([('0-4', 0), ('5-9', 1), ('10-14', 2), ('15-19', 3), ('20-24', 4), ('25-29', 5), ('30-34', 6), ('35-39', 7), ('40-44', 8), ('45-49', 9), ('50-54', 10), ('55-59', 11)])\n",
        "inv = dict([('0-2', 0), ('3-5', 1), ('6-8', 2), ('9-11', 3), ('12-14', 4), ('15-17', 5), ('18-20', 6), ('21-23', 7), ('24-26', 8), ('27-29', 9), ('30-32', 10), ('33-35', 11), ('36-39', 12)])\n",
        "node_caps = dict([('yes', 0), ('no', 1)])\n",
        "deg = dict([(1, 0), (2, 1), (3, 2)])\n",
        "breast = dict([('left', 0), ('right', 1)])\n",
        "breast_quad = dict([('left_up', 0), ('left_low', 1), ('right_up', 2), ('right_low', 3), ('central', 4)])\n",
        "irradiat = dict([('yes', 0), ('no', 1)])\n",
        "class_breast = dict([('no-recurrence-events', 0), ('recurrence-events', 1)])\n",
        "\n",
        "# Assigning the values to car evaluation dataset using a dictionary\n",
        "breast_dataset_values = ['Age', 'Menopause', 'Tumor_size', 'Inv_nodes', 'Node_caps', 'Deg_malig', 'Breast', 'Breast_quad', 'Irradiat', 'Class']\n",
        "breast_dataset=load_dataset(dataset_3, column_name3)[breast_dataset_values]\n",
        "\n",
        "# Mapping the values as per specific columns\n",
        "breast_dataset.Age = breast_dataset.Age.map(age)\n",
        "breast_dataset.Menopause = breast_dataset.Menopause.map(menopause)\n",
        "breast_dataset.Tumor_size=breast_dataset.Tumor_size.map(tumor)\n",
        "breast_dataset.Inv_nodes=breast_dataset.Inv_nodes.map(inv)\n",
        "breast_dataset.Node_caps=breast_dataset.Node_caps.map(node_caps)\n",
        "breast_dataset.Deg_malig=breast_dataset.Deg_malig.map(deg)\n",
        "breast_dataset.Breast=breast_dataset.Breast.map(breast)\n",
        "breast_dataset.Breast_quad=breast_dataset.Breast_quad.map(breast_quad)\n",
        "breast_dataset.Irradiat=breast_dataset.Irradiat.map(irradiat)\n",
        "breast_dataset.Class=breast_dataset.Class.map(class_breast)\n",
        "print(\"Breast cancer dataset\", breast_dataset.values.tolist())\n",
        "#########################################################"
      ],
      "metadata": {
        "colab": {
          "base_uri": "https://localhost:8080/"
        },
        "id": "AYyk_fU7LkOF",
        "outputId": "7774c7fc-583e-4179-a4b8-3a77efb17792"
      },
      "execution_count": null,
      "outputs": [
        {
          "output_type": "stream",
          "name": "stdout",
          "text": [
            "Breast cancer dataset [[2, 2, 6, 0, 1, 2, 0, 1, 1, 0], [3, 2, 4, 0, 1, 1, 1, 2, 1, 0], [3, 2, 4, 0, 1, 1, 0, 1, 1, 0], [5, 1, 3, 0, 1, 1, 1, 0, 1, 0], [3, 2, 0, 0, 1, 1, 1, 3, 1, 0], [5, 1, 3, 0, 1, 1, 0, 1, 1, 0], [4, 2, 5, 0, 1, 1, 0, 1, 1, 0], [5, 1, 4, 0, 1, 0, 0, 1, 1, 0], [3, 2, 10, 0, 1, 1, 0, 1, 1, 0], [3, 2, 4, 0, 1, 1, 1, 0, 1, 0], [3, 2, 0, 0, 1, 2, 0, 4, 1, 0], [4, 1, 5, 0, 1, 1, 0, 1, 1, 0], [5, 0, 2, 0, 1, 0, 0, 2, 1, 0], [4, 1, 5, 0, 1, 2, 0, 2, 1, 0], [3, 2, 6, 0, 1, 2, 0, 0, 1, 0], [5, 0, 6, 0, 1, 0, 0, 1, 1, 0], [3, 2, 3, 0, 1, 1, 0, 1, 1, 0], [4, 2, 6, 0, 1, 2, 0, 1, 1, 0], [5, 1, 6, 0, 1, 2, 0, 1, 1, 0], [4, 1, 6, 0, 1, 0, 1, 2, 1, 0], [4, 1, 8, 0, 1, 1, 0, 1, 1, 0], [5, 1, 3, 0, 1, 1, 0, 1, 1, 0], [2, 2, 5, 0, 1, 1, 1, 1, 1, 0], [4, 2, 8, 0, 1, 1, 0, 0, 1, 0], [4, 2, 7, 0, 1, 1, 1, 0, 1, 0], [3, 2, 5, 0, 1, 1, 0, 0, 1, 0], [4, 2, 4, 0, 1, 0, 0, 1, 1, 0], [5, 1, 5, 0, 1, 2, 1, 0, 1, 0], [3, 2, 8, 0, 1, 1, 1, 1, 1, 0], [5, 1, 6, 0, 1, 1, 0, 1, 1, 0], [4, 1, 8, 0, 1, 2, 1, 0, 1, 0], [4, 2, 3, 0, 1, 1, 1, 1, 1, 0], [4, 2, 2, 0, 1, 2, 0, 1, 1, 0], [4, 1, 2, 0, 1, 0, 1, 0, 1, 0], [4, 1, 2, 0, 1, 0, 0, 0, 1, 0], [2, 2, 6, 0, 1, 1, 0, 0, 1, 0], [4, 1, 0, 0, 1, 1, 0, 4, 1, 0], [4, 1, 3, 0, 1, 0, 1, 4, 1, 0], [3, 2, 2, 0, 1, 1, 0, 1, 1, 0], [3, 2, 6, 0, 1, 0, 0, 1, 1, 0], [4, 1, 4, 0, 1, 0, 1, 1, 1, 0], [5, 1, 5, 0, 1, 1, 0, 1, 1, 0], [5, 1, 1, 0, 1, 0, 0, 4, 1, 0], [3, 2, 2, 0, 1, 1, 0, 0, 1, 0], [4, 1, 10, 0, 1, 0, 1, 2, 1, 0], [4, 1, 6, 0, 1, 0, 0, 0, 1, 0], [3, 2, 5, 0, 1, 1, 1, 1, 1, 0], [4, 2, 5, 0, 1, 0, 1, 0, 1, 0], [3, 2, 4, 0, 1, 0, 1, 2, 1, 0], [3, 2, 4, 0, 1, 0, 1, 1, 1, 0], [4, 0, 3, 0, 1, 1, 0, 1, 1, 0], [2, 2, 4, 0, 1, 1, 0, 3, 1, 0], [4, 2, 3, 0, 1, 0, 0, 1, 1, 0], [6, 1, 4, 0, 1, 2, 0, 0, 1, 0], [6, 1, 8, 0, 1, 0, 1, 0, 1, 0], [6, 1, 8, 0, 1, 0, 1, 2, 1, 0], [4, 1, 0, 0, 1, 0, 1, 4, 1, 0], [4, 1, 1, 0, 1, 1, 1, 2, 1, 0], [5, 1, 6, 0, 1, 0, 0, 0, 1, 0], [5, 1, 3, 0, 1, 0, 1, 0, 1, 0], [3, 2, 4, 0, 1, 1, 0, 4, 1, 0], [3, 2, 2, 0, 1, 0, 1, 3, 1, 0], [4, 1, 0, 0, 1, 0, 0, 1, 1, 0], [1, 2, 7, 0, 1, 1, 1, 2, 1, 0], [3, 2, 5, 0, 1, 0, 0, 3, 1, 0], [3, 2, 2, 0, 1, 0, 1, 0, 1, 0], [3, 2, 5, 0, 1, 0, 1, 3, 1, 0], [4, 1, 4, 0, 1, 2, 0, 0, 1, 0], [4, 1, 7, 0, 1, 2, 0, 1, 1, 0], [5, 1, 10, 0, 1, 1, 0, 1, 1, 0], [5, 1, 2, 0, 1, 0, 0, 1, 1, 0], [3, 2, 5, 0, 1, 1, 1, 0, 1, 0], [5, 1, 4, 0, 1, 1, 0, 0, 1, 0], [4, 2, 3, 0, 1, 1, 1, 3, 1, 0], [2, 2, 1, 0, 1, 1, 0, 3, 1, 0], [4, 1, 2, 0, 1, 0, 0, 1, 1, 0], [4, 1, 2, 0, 1, 1, 0, 1, 1, 0], [2, 2, 5, 0, 1, 0, 0, 4, 1, 0], [4, 2, 5, 0, 1, 1, 0, 1, 1, 0], [3, 2, 5, 0, 1, 1, 1, 4, 1, 0], [4, 1, 2, 0, 1, 1, 1, 1, 1, 0], [5, 1, 2, 0, 1, 0, 0, 0, 1, 0], [5, 1, 3, 0, 1, 1, 1, 1, 1, 0], [4, 1, 3, 0, 1, 1, 1, 1, 1, 0], [3, 2, 4, 0, 1, 0, 0, 3, 1, 0], [4, 1, 7, 0, 1, 2, 0, 0, 1, 0], [5, 1, 5, 0, 1, 1, 1, 1, 1, 0], [6, 1, 0, 0, 1, 0, 0, 3, 1, 0], [4, 1, 4, 0, 1, 2, 1, 0, 1, 0], [3, 2, 8, 0, 1, 0, 1, 0, 1, 0], [2, 2, 0, 0, 1, 1, 1, 4, 1, 0], [4, 1, 4, 0, 1, 2, 0, 0, 1, 0], [4, 1, 5, 0, 1, 1, 1, 0, 1, 0], [5, 1, 4, 0, 1, 1, 1, 0, 1, 0], [4, 2, 2, 0, 1, 0, 0, 1, 1, 0], [3, 2, 6, 0, 1, 1, 1, 3, 1, 0], [5, 1, 6, 0, 1, 1, 0, 0, 1, 0], [5, 1, 3, 0, 1, 1, 1, 0, 1, 0], [3, 2, 6, 0, 1, 0, 0, 2, 1, 0], [2, 2, 5, 0, 1, 1, 0, 1, 1, 0], [3, 1, 4, 0, 1, 2, 0, 1, 1, 0], [4, 1, 6, 0, 1, 2, 1, 1, 1, 0], [4, 2, 5, 0, 1, 1, 1, 3, 1, 0], [3, 2, 4, 0, 1, 1, 0, 3, 1, 0], [3, 2, 2, 0, 1, 1, 1, 1, 1, 0], [3, 2, 6, 0, 1, 0, 1, 0, 1, 0], [3, 2, 4, 0, 1, 1, 0, 0, 1, 0], [2, 2, 8, 0, 1, 1, 1, 2, 1, 0], [3, 2, 6, 0, 1, 2, 1, 2, 1, 0], [5, 1, 6, 0, 1, 0, 1, 0, 1, 0], [4, 1, 5, 0, 1, 0, 0, 1, 1, 0], [4, 1, 3, 0, 1, 0, 1, 4, 1, 0], [3, 2, 4, 0, 1, 1, 1, 0, 1, 0], [3, 2, 2, 0, 1, 0, 1, 0, 1, 0], [3, 2, 7, 0, 1, 1, 1, 2, 1, 0], [4, 1, 4, 0, 1, 1, 1, 0, 1, 0], [2, 2, 3, 0, 1, 0, 0, 1, 1, 0], [3, 1, 4, 0, 1, 2, 0, 0, 1, 0], [2, 2, 2, 0, 1, 0, 1, 1, 1, 0], [5, 1, 3, 0, 1, 0, 0, 3, 1, 0], [5, 1, 4, 0, 1, 0, 0, 1, 1, 0], [4, 1, 3, 0, 1, 1, 1, 2, 1, 0], [4, 1, 8, 0, 1, 2, 0, 0, 1, 0], [4, 1, 6, 0, 1, 0, 1, 1, 1, 0], [5, 1, 2, 0, 1, 0, 1, 1, 1, 0], [6, 1, 2, 0, 1, 1, 0, 4, 1, 0], [2, 2, 6, 2, 0, 1, 1, 2, 1, 0], [2, 2, 5, 2, 0, 1, 1, 0, 0, 0], [4, 2, 5, 0, 0, 1, 0, 0, 1, 0], [3, 2, 7, 3, 0, 1, 1, 0, 0, 0], [3, 2, 7, 3, 0, 1, 1, 2, 0, 0], [3, 2, 8, 1, 0, 2, 1, 0, 0, 0], [3, 2, 6, 2, 1, 1, 0, 0, 1, 0], [4, 1, 8, 0, 1, 2, 0, 2, 1, 0], [5, 1, 6, 0, 1, 1, 0, 1, 0, 0], [2, 2, 4, 1, 1, 1, 1, 4, 1, 0], [2, 2, 8, 1, 1, 2, 1, 2, 0, 0], [3, 2, 1, 0, 1, 0, 0, 1, 0, 0], [2, 2, 8, 0, 1, 1, 0, 1, 0, 0], [3, 2, 6, 0, 1, 1, 0, 3, 1, 0], [4, 1, 8, 1, 0, 1, 0, 1, 1, 0], [4, 2, 4, 1, 0, 1, 0, 1, 1, 0], [5, 1, 2, 0, 1, 0, 0, 0, 1, 0], [3, 2, 9, 0, 1, 1, 0, 1, 0, 0], [5, 1, 9, 2, 0, 2, 0, 4, 1, 0], [5, 1, 10, 0, 1, 1, 1, 0, 0, 0], [4, 2, 6, 1, 0, 1, 0, 1, 0, 0], [2, 2, 4, 0, 1, 2, 0, 4, 1, 0], [4, 0, 6, 0, 1, 2, 1, 0, 1, 0], [4, 1, 5, 5, 0, 2, 1, 0, 1, 0], [5, 1, 6, 1, 0, 2, 0, 1, 1, 0], [4, 1, 7, 5, 1, 2, 0, 1, 1, 0], [5, 1, 3, 0, 1, 2, 1, 0, 0, 0], [2, 0, 3, 0, 1, 2, 1, 0, 1, 0], [5, 1, 8, 1, 1, 1, 1, 0, 0, 0], [4, 1, 5, 1, 0, 2, 1, 0, 1, 0], [4, 2, 6, 0, 1, 0, 0, 4, 1, 0], [4, 1, 6, 0, 1, 0, 1, 4, 1, 0], [3, 2, 7, 0, 1, 0, 0, 1, 1, 0], [3, 2, 5, 0, 1, 2, 1, 0, 0, 0], [3, 2, 6, 1, 0, 1, 1, 1, 1, 0], [5, 1, 2, 0, 1, 1, 1, 0, 0, 0], [3, 2, 4, 1, 1, 1, 1, 0, 1, 0], [3, 2, 4, 1, 1, 1, 1, 1, 1, 0], [3, 1, 8, 5, 0, 1, 1, 0, 0, 0], [4, 2, 2, 0, 1, 1, 1, 0, 1, 0], [3, 1, 6, 0, 1, 1, 0, 0, 0, 0], [2, 2, 4, 1, 0, 1, 1, 0, 0, 0], [2, 2, 3, 0, 1, 0, 0, 1, 1, 0], [5, 1, 6, 2, 0, 1, 1, 2, 1, 0], [4, 1, 4, 1, 0, 1, 1, 0, 1, 0], [4, 2, 5, 1, 0, 1, 0, 1, 0, 0], [3, 2, 6, 0, 1, 1, 1, 2, 0, 0], [3, 1, 5, 0, 1, 1, 0, 1, 1, 0], [5, 1, 2, 0, 1, 1, 0, 1, 1, 0], [4, 2, 5, 1, 1, 1, 1, 0, 0, 0], [3, 2, 4, 0, 1, 2, 1, 1, 0, 0], [3, 2, 7, 0, 0, 2, 1, 0, 0, 0], [3, 2, 7, 0, 0, 2, 1, 1, 0, 0], [3, 2, 5, 0, 1, 0, 1, 1, 0, 0], [3, 2, 4, 2, 1, 1, 1, 1, 0, 0], [4, 1, 5, 0, 1, 0, 0, 3, 1, 0], [5, 1, 3, 0, 1, 1, 0, 0, 0, 0], [3, 2, 2, 0, 1, 1, 1, 0, 1, 0], [4, 1, 4, 0, 0, 1, 1, 0, 1, 0], [3, 2, 3, 4, 1, 2, 1, 3, 0, 0], [3, 2, 5, 0, 1, 1, 0, 0, 0, 0], [4, 1, 6, 2, 0, 1, 0, 1, 1, 0], [2, 2, 2, 0, 1, 1, 0, 3, 1, 0], [4, 2, 10, 0, 0, 1, 1, 0, 0, 0], [4, 1, 7, 0, 1, 1, 0, 0, 1, 0], [4, 2, 2, 1, 1, 0, 1, 0, 1, 0], [3, 2, 2, 0, 1, 1, 0, 1, 0, 0], [4, 1, 3, 0, 0, 1, 0, 4, 0, 0], [4, 2, 5, 0, 1, 0, 0, 1, 1, 0], [5, 1, 5, 0, 1, 2, 1, 1, 1, 0], [4, 2, 3, 0, 1, 1, 0, 1, 1, 1], [3, 2, 8, 0, 1, 0, 0, 1, 1, 1], [4, 1, 7, 0, 1, 1, 0, 1, 1, 1], [4, 2, 5, 0, 1, 1, 0, 2, 1, 1], [2, 2, 0, 0, 1, 1, 1, 4, 1, 1], [4, 2, 5, 0, 1, 1, 0, 2, 1, 1], [4, 2, 6, 0, 1, 2, 0, 2, 1, 1], [3, 2, 7, 0, 1, 0, 1, 0, 1, 1], [3, 2, 4, 0, 1, 1, 0, 1, 1, 1], [4, 1, 4, 0, 1, 1, 1, 4, 1, 1], [3, 2, 6, 0, 1, 2, 1, 2, 1, 1], [4, 2, 5, 0, 1, 0, 1, 0, 1, 1], [5, 1, 8, 0, 1, 1, 1, 1, 1, 1], [3, 1, 4, 0, 1, 1, 1, 0, 1, 1], [4, 1, 4, 0, 1, 1, 0, 0, 1, 1], [3, 2, 3, 0, 1, 1, 0, 0, 1, 1], [5, 1, 6, 0, 1, 2, 1, 4, 1, 1], [2, 2, 3, 0, 1, 0, 1, 1, 1, 1], [3, 2, 5, 0, 1, 2, 0, 2, 1, 1], [2, 2, 6, 0, 1, 0, 1, 0, 1, 1], [5, 1, 5, 0, 1, 2, 0, 3, 0, 1], [5, 1, 4, 0, 1, 2, 1, 1, 1, 1], [2, 2, 5, 1, 0, 2, 0, 1, 0, 1], [3, 1, 4, 1, 1, 2, 1, 1, 0, 1], [3, 2, 6, 5, 0, 2, 0, 1, 1, 1], [4, 2, 6, 0, 1, 2, 1, 0, 0, 1], [5, 1, 8, 1, 0, 2, 1, 1, 1, 1], [5, 1, 9, 0, 1, 0, 1, 2, 0, 1], [4, 2, 10, 3, 0, 1, 1, 0, 1, 1], [3, 2, 6, 1, 1, 1, 1, 0, 1, 1], [2, 2, 6, 1, 1, 2, 1, 0, 0, 1], [5, 1, 6, 0, 1, 2, 1, 0, 0, 1], [4, 2, 5, 1, 0, 2, 0, 1, 0, 1], [3, 2, 5, 0, 1, 1, 1, 1, 1, 1], [3, 2, 5, 0, 1, 1, 1, 1, 1, 1], [2, 2, 7, 0, 1, 2, 0, 1, 1, 1], [3, 2, 4, 1, 0, 1, 1, 2, 0, 1], [5, 1, 4, 1, 1, 1, 0, 1, 0, 1], [3, 2, 3, 5, 0, 2, 0, 1, 1, 1], [4, 1, 5, 2, 1, 2, 0, 1, 0, 1], [4, 1, 4, 1, 0, 2, 1, 2, 1, 1], [3, 2, 6, 4, 0, 2, 0, 0, 0, 1], [2, 2, 6, 3, 1, 1, 1, 0, 0, 1], [2, 2, 3, 2, 0, 2, 0, 1, 0, 1], [4, 1, 6, 3, 0, 2, 0, 3, 0, 1], [5, 1, 7, 2, 0, 2, 0, 1, 1, 1], [2, 2, 4, 1, 0, 1, 0, 1, 1, 1], [3, 2, 5, 0, 1, 2, 0, 0, 1, 1], [3, 2, 10, 0, 1, 1, 1, 1, 0, 1], [2, 2, 8, 0, 1, 0, 0, 0, 1, 1], [5, 1, 10, 0, 1, 2, 1, 0, 1, 1], [3, 2, 6, 0, 0, 2, 1, 2, 1, 1], [3, 2, 6, 2, 0, 2, 1, 0, 1, 1], [3, 2, 6, 0, 1, 0, 0, 1, 0, 1], [3, 2, 4, 1, 0, 1, 0, 1, 0, 1], [4, 1, 6, 2, 0, 1, 0, 3, 0, 1], [4, 1, 6, 1, 1, 2, 1, 0, 1, 1], [5, 1, 5, 1, 1, 1, 1, 2, 1, 1], [3, 1, 5, 4, 0, 2, 0, 3, 0, 1], [5, 1, 5, 0, 1, 2, 0, 0, 1, 1], [2, 2, 7, 3, 0, 2, 0, 1, 1, 1], [3, 2, 6, 1, 0, 1, 0, 2, 1, 1], [5, 1, 4, 8, 0, 2, 0, 1, 0, 1], [2, 2, 7, 0, 1, 2, 0, 1, 1, 1], [3, 2, 5, 0, 1, 1, 0, 1, 0, 1], [4, 1, 6, 2, 0, 2, 0, 3, 1, 1], [4, 2, 5, 0, 1, 2, 1, 1, 0, 1], [3, 2, 3, 0, 0, 2, 1, 0, 1, 1], [5, 1, 6, 0, 0, 1, 1, 2, 0, 1], [5, 1, 6, 1, 0, 1, 0, 4, 0, 1], [3, 2, 5, 3, 0, 2, 1, 0, 1, 1], [2, 2, 5, 2, 0, 2, 0, 3, 0, 1], [5, 1, 2, 2, 0, 2, 0, 0, 0, 1], [4, 2, 7, 5, 0, 2, 1, 2, 1, 1], [4, 1, 8, 2, 0, 2, 0, 1, 0, 1], [4, 1, 8, 2, 0, 2, 0, 1, 0, 1], [2, 2, 6, 0, 1, 1, 0, 0, 1, 1], [2, 2, 4, 0, 1, 2, 0, 0, 0, 1], [5, 1, 4, 0, 1, 0, 1, 0, 1, 1], [3, 1, 6, 1, 1, 2, 0, 1, 1, 1], [4, 1, 6, 1, 1, 2, 0, 1, 1, 1]]\n"
          ]
        }
      ]
    },
    {
      "cell_type": "markdown",
      "source": [
        "Separate the class"
      ],
      "metadata": {
        "id": "yFNtE2l8L6D3"
      }
    },
    {
      "cell_type": "code",
      "source": [
        "# Function to distribute the dataset values according to the class\n",
        "def distribute_by_class(dataset_value):\n",
        "    class_arrange = {}\n",
        "    for index_value, list_value in enumerate(dataset_value):\n",
        "      if list_value[-1] not in class_arrange:\n",
        "          class_arrange[list_value[-1]] = []\n",
        "      class_arrange[list_value[-1]].append(dataset_value[index_value])\n",
        "    return class_arrange\n",
        "# print('\\033[1m'+ \"\\n\\t\\t\", dataset1_name + '\\033[0m\\n')\n",
        "# print(distribute_by_class(load_dataset(dataset_1, column_name1).values.tolist()))"
      ],
      "metadata": {
        "id": "cJa5OhR4dmrY"
      },
      "execution_count": null,
      "outputs": []
    },
    {
      "cell_type": "markdown",
      "source": [
        "Calculate mean and standard deviation"
      ],
      "metadata": {
        "id": "slgjuqmKL9fm"
      }
    },
    {
      "cell_type": "code",
      "source": [
        "# Function to calculate mean\n",
        "def calculate_mean(numbers):\n",
        "    mean = sum(numbers)/(len(numbers))\n",
        "    return mean\n",
        "\n",
        "# Function to calculate standard deviation\n",
        "def calculate_standard_deviation(numbers):\n",
        "    length_numbers = len(numbers) - 1\n",
        "    addition_value = sum([(each_number-calculate_mean(numbers))**2 for each_number in numbers])\n",
        "    return sqrt(addition_value/length_numbers)"
      ],
      "metadata": {
        "id": "1IwbqwAYMBSm"
      },
      "execution_count": null,
      "outputs": []
    },
    {
      "cell_type": "code",
      "source": [
        "## Calculate and returns the summary that includes mean, standard deviation and length\n",
        "\n",
        "all_values= []\n",
        "def zip_values(datset_dictionary):\n",
        "    summary_values = ([*zip(*datset_dictionary)])\n",
        "    mean_set=[]\n",
        "    std_set = []\n",
        "    length_set = []\n",
        "    for first_set in summary_values:\n",
        "        mean_set.append(calculate_mean(first_set))\n",
        "        std_set.append(calculate_standard_deviation(first_set))\n",
        "        length_set.append(len(datset_dictionary))\n",
        "    final_values = [*zip(mean_set, std_set, length_set)]\n",
        "    # Deleting the last set as it hold the class details which we don't need\n",
        "    del final_values[-1]\n",
        "    return final_values"
      ],
      "metadata": {
        "id": "6-pgn3qj_Njp"
      },
      "execution_count": null,
      "outputs": []
    },
    {
      "cell_type": "markdown",
      "source": [
        "Class along with their mean, standard deviation and length"
      ],
      "metadata": {
        "id": "KX27rYl1iIL3"
      }
    },
    {
      "cell_type": "code",
      "source": [
        "# Returns the dictionary which contains list class along with their mean, standard deviation and length\n",
        "def capture_with_class(dataset_value):\n",
        "    total_summary = {}\n",
        "    for each_value, row_value in distribute_by_class(dataset_value).items():\n",
        "        total_summary[each_value] = zip_values(row_value)\n",
        "    return total_summary\n",
        "# print(capture_with_class(load_dataset(dataset_1, column_name1).values.tolist()))"
      ],
      "metadata": {
        "id": "LCTDegOhhr4J"
      },
      "execution_count": null,
      "outputs": []
    },
    {
      "cell_type": "markdown",
      "source": [
        "Calculate Gaussian Probability Density Function\n",
        "\n",
        "f(x) = (1 / sqrt(2 * PI) * sigma) * exp(-((x-mean)^2 / (2 * sigma^2)))\n"
      ],
      "metadata": {
        "id": "KX464QiwFwni"
      }
    },
    {
      "cell_type": "code",
      "source": [
        "# Gaussian probability function\n",
        "def gaussian_probability(x, mean_value, standard_deviation_value):\n",
        "  if standard_deviation_value == 0:\n",
        "    return 0\n",
        "  else:\n",
        "    # print(x, mean_value, standard_deviation_value)\n",
        "    # print(x)\n",
        "    if x == None:\n",
        "      x = 100\n",
        "      return (1 / sqrt(2 * pi) * standard_deviation_value) * exp(-((x-mean_value)**2 / (2 * standard_deviation_value**2)))\n",
        "    else:\n",
        "      return (1 / sqrt(2 * pi) * standard_deviation_value) * exp(-((x-mean_value)**2 / (2 * standard_deviation_value**2)))"
      ],
      "metadata": {
        "id": "yx8zfjGkF8ol"
      },
      "execution_count": null,
      "outputs": []
    },
    {
      "cell_type": "markdown",
      "source": [
        "Calculate probabilities of class"
      ],
      "metadata": {
        "id": "mIwHCZ2qelJU"
      }
    },
    {
      "cell_type": "code",
      "source": [
        "# every_value = [92,2,1,1,2,1] # for testing only\n",
        "# Calculate class probabilities\n",
        "index0 = 0\n",
        "index2 = 2\n",
        "def class_probabilities(summaries_values, every_value, evaluate_log = False):\n",
        "    probabilties_value = {}\n",
        "    total_sum_label = 0\n",
        "    # Calculate total number of rows\n",
        "    for each_label in summaries_values:\n",
        "        total_sum_label = total_sum_label + summaries_values[each_label][index0][index2]\n",
        "    for each_class, each_class_value in summaries_values.items():\n",
        "        valuesofclass = (summaries_values[each_class][index0][index2])\n",
        "        probability_class = valuesofclass/(total_sum_label)\n",
        "        for i, j in enumerate(each_class_value):\n",
        "            capture_mean = each_class_value[i][0]\n",
        "            capture_stdev = each_class_value[i][1]\n",
        "            capture_count = each_class_value[i][2]\n",
        "            gaussian_value = gaussian_probability(every_value[i], capture_mean, capture_stdev)\n",
        "            if evaluate_log == False:\n",
        "              probabilties_value[each_class] = probability_class * gaussian_value\n",
        "            else:\n",
        "              probabilties_value[each_class] = log(probability_class) * gaussian_value\n",
        "\n",
        "    return probabilties_value"
      ],
      "metadata": {
        "id": "pyhiuXy6ekpD"
      },
      "execution_count": null,
      "outputs": []
    },
    {
      "cell_type": "markdown",
      "source": [
        "K-fold cross validation"
      ],
      "metadata": {
        "id": "DzPCZsznSsk-"
      }
    },
    {
      "cell_type": "code",
      "source": [
        "# dataset_value = [[1], [2], [3], [4], [5]] # values for testing\n",
        "# output = [[[2]], [[3]], [[4]], [[1]], [[5]]] # values for testing\n",
        "\n",
        "def kfold(dataset_value, number_of_folds):\n",
        "    splitted_dataset = []\n",
        "    fold_value = (len(dataset_value))/(number_of_folds)\n",
        "    # Each fold size\n",
        "    foldsize = int(fold_value)\n",
        "    # Make a copy of the dataset\n",
        "    dataset_duplicate = list(dataset_value)\n",
        "    length_dataset_duplicate = len(dataset_duplicate)\n",
        "    # Looping across folds\n",
        "    for a in range(number_of_folds):\n",
        "        fold_set = []\n",
        "        if (len(fold_set)) > foldsize:\n",
        "            continue\n",
        "        for k in range(0, foldsize):\n",
        "            fold_set.append(dataset_duplicate.pop(randrange(len(dataset_duplicate))))\n",
        "        splitted_dataset.append(fold_set)\n",
        "    return splitted_dataset # Return the splitted dataset\n",
        "    print(\"Split 1\", splitted_dataset)\n",
        "# print(kfold(load_dataset(dataset_1, column_name1).values.tolist(), 10))"
      ],
      "metadata": {
        "id": "mH1HFzteSsKs"
      },
      "execution_count": null,
      "outputs": []
    },
    {
      "cell_type": "markdown",
      "source": [
        "Prediction of class label"
      ],
      "metadata": {
        "id": "pfpbkjTglZcB"
      }
    },
    {
      "cell_type": "code",
      "source": [
        "# Function to predict the class for the provided row in every_value\n",
        "def prediction(summaries_values, every_value, evaluate_log=False):\n",
        "    best_label = 0\n",
        "    best_probability = 0\n",
        "    if evaluate_log == False:\n",
        "      for each_class, each_probability in class_probabilities(summaries_values, every_value).items():\n",
        "        if best_label == -2 and each_probability < best_probability:\n",
        "            continue\n",
        "        elif best_label is None or each_probability > best_probability:\n",
        "            best_probability = each_probability\n",
        "            best_label = each_class\n",
        "    else:\n",
        "      for each_class, each_probability in class_probabilities(summaries_values, every_value, True).items():\n",
        "        if best_label == -2 and each_probability < best_probability:\n",
        "            continue\n",
        "        elif best_label is None or each_probability > best_probability:\n",
        "            best_probability = each_probability\n",
        "            best_label = each_class\n",
        "    return best_label # Returning the best label"
      ],
      "metadata": {
        "id": "XlyaSQhUlYGe"
      },
      "execution_count": null,
      "outputs": []
    },
    {
      "cell_type": "markdown",
      "source": [
        "Naive Bayes Algorithm"
      ],
      "metadata": {
        "id": "oRR6515T0Gwu"
      }
    },
    {
      "cell_type": "code",
      "source": [
        "# Function for Naive Bayes Algorithm\n",
        "def naive_bayes_algorithm(train_set, test_set, evaluate_log = False):\n",
        "    naive_bayes_predictions = []\n",
        "    for each_row in test_set:\n",
        "      if evaluate_log == False:\n",
        "        naive_bayes_predictions.append(prediction(capture_with_class(train_set), each_row))\n",
        "      else:\n",
        "        naive_bayes_predictions.append(prediction(capture_with_class(train_set), each_row, True))\n",
        "    return naive_bayes_predictions \n",
        "    #returns the predictions values by naive bayes algorithm\n",
        "first_dataset_weka = [82.86, 80.71, 81.54, 79.23, 83.08, 81.54, 85.38, 84.62, 86.92, 80.77]\n",
        "second_dataset_weka = [85.90, 84.62, 86.94, 83.93, 85.55, 85.66, 85.49, 85.09, 85.58, 85.87]\n",
        "third_dataset_weka = [74.83, 74.48, 70.34, 71.72, 70.69, 73.10, 74.64, 72.50, 72.86, 76.43] "
      ],
      "metadata": {
        "id": "ya40p-cw0F8q"
      },
      "execution_count": null,
      "outputs": []
    },
    {
      "cell_type": "markdown",
      "source": [
        "Calculate accuracy percentage"
      ],
      "metadata": {
        "id": "PLBF6Ror9ioj"
      }
    },
    {
      "cell_type": "code",
      "source": [
        "# Calculate percentage of accuracy\n",
        "def accuracy_percentage(actual_value, predicted_value):\n",
        "    true_value = 0\n",
        "    actual_predicted_set = zip(actual_value, predicted_value)\n",
        "    for first_value, second_value in actual_predicted_set:\n",
        "        if first_value == second_value:\n",
        "            true_value = true_value + 1\n",
        "    fraction_value = (true_value) / (len(actual_value))\n",
        "    percentage = 100 * fraction_value\n",
        "    return percentage"
      ],
      "metadata": {
        "id": "McqZFeYp9hN-"
      },
      "execution_count": null,
      "outputs": []
    },
    {
      "cell_type": "markdown",
      "source": [
        "Verift the Naive bayes algorithm"
      ],
      "metadata": {
        "id": "pqpLeWs3SUio"
      }
    },
    {
      "cell_type": "code",
      "source": [
        "# Verify the naive bayes algorithm\n",
        "def convert_to_list(input_value):\n",
        "    return list(input_value)\n",
        "folds_count = 10\n",
        "def final_naive(number_of_folds, algorithm, dataset, evaluate_log=False, *args):\n",
        "    cross_validation_folds = kfold(dataset, number_of_folds)\n",
        "    accuracy_point = []\n",
        "    None_value = None\n",
        "    for every_fold_value in cross_validation_folds:\n",
        "        empty_list = list()\n",
        "        testing_dataset = []\n",
        "        training_dataset = convert_to_list(cross_validation_folds)\n",
        "        training_dataset.remove(every_fold_value)\n",
        "        training_dataset = sum(training_dataset, empty_list)\n",
        "        for each_row_value in every_fold_value:\n",
        "            duplicate_row_value = convert_to_list(each_row_value)\n",
        "            testing_dataset.append(convert_to_list(each_row_value))\n",
        "            duplicate_row_value[-1+0] = None_value\n",
        "\n",
        "        analysis_of_algorithm = algorithm(training_dataset, testing_dataset, *args)\n",
        "        empty_list1 = list()\n",
        "        for each_row_value in every_fold_value:\n",
        "            empty_list1.append(each_row_value[-1])\n",
        "        accuracy_point.append(accuracy_percentage(empty_list1, analysis_of_algorithm))\n",
        "    return accuracy_point\n",
        "\n",
        "\n",
        "scores_1 = final_naive(folds_count, naive_bayes_algorithm, load_dataset(dataset_1, column_name1).values.tolist()) # To run hayes roath dataset\n",
        "scores_2 = final_naive(folds_count, naive_bayes_algorithm, car_evaluation_dataset.values.tolist())  # To run Car evaluation dataset\n",
        "scores_3 = final_naive(folds_count, naive_bayes_algorithm, breast_dataset.values.tolist())  # To run Breast cancer dataset\n",
        "\n",
        "##changes\n",
        "# log_dataset_1 = final_naive(folds_count, naive_bayes_algorithm, load_dataset(dataset_1, column_name1, True).values.tolist()) # To run hayes roath dataset\n",
        "# log_dataset_2 = final_naive(folds_count, naive_bayes_algorithm, car_evaluation_dataset.values.tolist())  # To run Car evaluation dataset\n",
        "# log_dataset_3 = final_naive(folds_count, naive_bayes_algorithm, breast_dataset.values.tolist())  # To run Breast cancer dataset\n",
        "####\n",
        "print('Scores: %s' % scores_1)\n",
        "print('Mean Accuracy: %.3f%%' % (sum(scores_1)/float(len(scores_1))))\n",
        "\n",
        "\n",
        "print('Scores: %s' % scores_2)\n",
        "print('Mean Accuracy: %.3f%%' % (sum(scores_2)/float(len(scores_2))))\n",
        "\n",
        "print('Scores: %s' % scores_3)\n",
        "print('Mean Accuracy: %.3f%%' % (sum(scores_3)/float(len(scores_3))))"
      ],
      "metadata": {
        "id": "s_-8xC9zRWpU",
        "colab": {
          "base_uri": "https://localhost:8080/"
        },
        "outputId": "3d1fae3a-8f6b-4b90-b49c-d57acefc772b"
      },
      "execution_count": null,
      "outputs": [
        {
          "output_type": "stream",
          "name": "stdout",
          "text": [
            "Scores: [30.76923076923077, 38.46153846153847, 30.76923076923077, 38.46153846153847, 76.92307692307693, 38.46153846153847, 30.76923076923077, 53.84615384615385, 53.84615384615385, 76.92307692307693]\n",
            "Mean Accuracy: 46.923%\n",
            "Scores: [65.11627906976744, 72.09302325581395, 69.76744186046511, 69.76744186046511, 67.44186046511628, 71.51162790697676, 74.4186046511628, 69.76744186046511, 68.02325581395348, 72.09302325581395]\n",
            "Mean Accuracy: 70.000%\n",
            "Scores: [70.37037037037037, 66.66666666666666, 81.48148148148148, 70.37037037037037, 70.37037037037037, 74.07407407407408, 74.07407407407408, 66.66666666666666, 66.66666666666666, 59.25925925925925]\n",
            "Mean Accuracy: 70.000%\n"
          ]
        }
      ]
    },
    {
      "cell_type": "markdown",
      "source": [
        "Comparison of various accuracies"
      ],
      "metadata": {
        "id": "rWls8nhZqJW2"
      }
    },
    {
      "cell_type": "code",
      "source": [
        "# Comparison of different accuracies\n",
        "accuracy_plot1 = (scores_1)\n",
        "\n",
        "accuracy1 = [\"1\",\"2\",\"3\",\"4\",\"5\",\"6\",\"7\",\"8\",\"9\",\"10\"]\n",
        "plt.title(\"Accuracies comparison for 10 folds for Hayes Roth Dataset\\n\")\n",
        "plt.xlabel(\"Folds\")\n",
        "plt.ylabel(\"Accuracy\")\n",
        "plt.bar(accuracy1, accuracy_plot1)"
      ],
      "metadata": {
        "colab": {
          "base_uri": "https://localhost:8080/",
          "height": 328
        },
        "id": "n8ubiS-rN2I9",
        "outputId": "f28ce0f2-2a6f-4ee7-df6d-717d20b75d72"
      },
      "execution_count": null,
      "outputs": [
        {
          "output_type": "execute_result",
          "data": {
            "text/plain": [
              "<BarContainer object of 10 artists>"
            ]
          },
          "metadata": {},
          "execution_count": 22
        },
        {
          "output_type": "display_data",
          "data": {
            "image/png": "[encoded data removed]",
            "text/plain": [
              "<Figure size 432x288 with 1 Axes>"
            ]
          },
          "metadata": {
            "needs_background": "light"
          }
        }
      ]
    },
    {
      "cell_type": "code",
      "source": [
        "# Comparison of different accuracies\n",
        "accuracy_plot2 = (scores_2)\n",
        "\n",
        "accuracy2 = [\"1\",\"2\",\"3\",\"4\",\"5\",\"6\",\"7\",\"8\",\"9\",\"10\"]\n",
        "plt.title(\"Accuracies comparison for 10 folds for Car Evaluation Dataset\\n\")\n",
        "plt.xlabel(\"Folds\")\n",
        "plt.ylabel(\"Accuracy\")\n",
        "plt.bar(accuracy2, accuracy_plot2)"
      ],
      "metadata": {
        "colab": {
          "base_uri": "https://localhost:8080/",
          "height": 328
        },
        "id": "Ehoq88Z2dayv",
        "outputId": "baeaa48f-34bc-4d8b-8790-ce5a58a8276e"
      },
      "execution_count": null,
      "outputs": [
        {
          "output_type": "execute_result",
          "data": {
            "text/plain": [
              "<BarContainer object of 10 artists>"
            ]
          },
          "metadata": {},
          "execution_count": 23
        },
        {
          "output_type": "display_data",
          "data": {
            "image/png": "[encoded data removed]",
            "text/plain": [
              "<Figure size 432x288 with 1 Axes>"
            ]
          },
          "metadata": {
            "needs_background": "light"
          }
        }
      ]
    },
    {
      "cell_type": "code",
      "source": [
        "# Comparison of different accuracies\n",
        "accuracy_plot3 = (scores_3)\n",
        "\n",
        "accuracy3 = [\"1\",\"2\",\"3\",\"4\",\"5\",\"6\",\"7\",\"8\",\"9\",\"10\"]\n",
        "plt.title(\"Accuracies comparison for 10 folds for Breast Cancer Dataset\\n\")\n",
        "plt.xlabel(\"Folds\")\n",
        "plt.ylabel(\"Accuracy\")\n",
        "plt.bar(accuracy3, accuracy_plot3)"
      ],
      "metadata": {
        "colab": {
          "base_uri": "https://localhost:8080/",
          "height": 328
        },
        "id": "0T8Q_X0_ddkj",
        "outputId": "3193fd90-ef06-40f9-b47a-967212b52286"
      },
      "execution_count": null,
      "outputs": [
        {
          "output_type": "execute_result",
          "data": {
            "text/plain": [
              "<BarContainer object of 10 artists>"
            ]
          },
          "metadata": {},
          "execution_count": 24
        },
        {
          "output_type": "display_data",
          "data": {
            "image/png": "[encoded data removed]",
            "text/plain": [
              "<Figure size 432x288 with 1 Axes>"
            ]
          },
          "metadata": {
            "needs_background": "light"
          }
        }
      ]
    },
    {
      "cell_type": "code",
      "source": [
        "# Comparison of different accuracies\n",
        "accuracy_plot4 = (max(scores_1), max(scores_2), max(scores_3))\n",
        "\n",
        "accuracy4 = [\"Hayes Roth\",\"Car Evaluation\",\"Breast Cancer\\n\"]\n",
        "plt.title(\"Best accuracies for all three datasets\\n\")\n",
        "plt.xlabel(\"Datasets\")\n",
        "plt.ylabel(\"Accuracy\")\n",
        "plt.bar(accuracy4, accuracy_plot4)"
      ],
      "metadata": {
        "colab": {
          "base_uri": "https://localhost:8080/",
          "height": 340
        },
        "id": "XyoKF-YXdqHK",
        "outputId": "e3ac960e-988a-4b50-aec9-a45049793c2f"
      },
      "execution_count": null,
      "outputs": [
        {
          "output_type": "execute_result",
          "data": {
            "text/plain": [
              "<BarContainer object of 3 artists>"
            ]
          },
          "metadata": {},
          "execution_count": 25
        },
        {
          "output_type": "display_data",
          "data": {
            "image/png": "[encoded data removed]",
            "text/plain": [
              "<Figure size 432x288 with 1 Axes>"
            ]
          },
          "metadata": {
            "needs_background": "light"
          }
        }
      ]
    },
    {
      "cell_type": "markdown",
      "source": [
        "Hypothesis testing using pair t-test"
      ],
      "metadata": {
        "id": "iTtTKPbzqUjY"
      }
    },
    {
      "cell_type": "code",
      "source": [
        "#Compute pair t-test\n",
        "# Compute the difference between the two pairs with di = yi-xi\n",
        "first_dataset_python = scores_1\n",
        "second_dataset_python = scores_2\n",
        "third_dataset_python = scores_3\n",
        "\n",
        "def pairttest(first_score, second_score, set_name):\n",
        "\tdi = [second_score - first_score for second_score, first_score in zip(second_score, first_score)]\n",
        "\tmean_difference = calculate_mean(di)\n",
        "\tstdev_di = calculate_standard_deviation(di)\n",
        "\tstandard_error = (stdev_di)/(sqrt(10))\n",
        "\tt_statistic = mean_difference/standard_error\n",
        "\tp_value = scipy.stats.t.sf(abs(t_statistic), df=(10-1)) * 2\n",
        "\tif p_value <= 0.005:\n",
        "\t\tprint('\\033[1m'+ \"\\n\", set_name + ':\\033[0m', p_value, '\\nDifference between the mean performance of weka and python NB implementation is probably real. So a significant difference does exist')\n",
        "\telse:\n",
        "\t\tprint('\\033[1m'+ \"\\n\", set_name + ':\\033[0m', p_value, '\\nWeka and python NB implementation probably have the same performance and we cannot conclude that a significant difference exists')\n",
        "\n",
        "print(pairttest(first_dataset_python, first_dataset_weka, dataset1_name))\n",
        "print(pairttest(second_dataset_python, second_dataset_weka, dataset2_name))\n",
        "print(pairttest(second_dataset_python, third_dataset_weka, dataset3_name))"
      ],
      "metadata": {
        "colab": {
          "base_uri": "https://localhost:8080/"
        },
        "id": "E0cijmcNlmwa",
        "outputId": "77abf12b-ec42-452f-ac64-8d43ff8b8c0b"
      },
      "execution_count": null,
      "outputs": [
        {
          "output_type": "stream",
          "name": "stdout",
          "text": [
            "\u001b[1m\n",
            " Hayes-Roth Data Set:\u001b[0m 0.00014065332557227172 \n",
            "Difference between the mean performance of weka and python NB implementation is probably real. So a significant difference does exist\n",
            "None\n",
            "\u001b[1m\n",
            " Car Evaluation Data Set:\u001b[0m 4.336254684654296e-08 \n",
            "Difference between the mean performance of weka and python NB implementation is probably real. So a significant difference does exist\n",
            "None\n",
            "\u001b[1m\n",
            " Breast Cancer Data Set:\u001b[0m 0.005268248552297414 \n",
            "Weka and python NB implementation probably have the same performance and we cannot conclude that a significant difference exists\n",
            "None\n"
          ]
        }
      ]
    }
  ]
}